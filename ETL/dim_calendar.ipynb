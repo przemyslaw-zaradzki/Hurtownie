{
 "cells": [
  {
   "cell_type": "code",
   "execution_count": 9,
   "metadata": {},
   "outputs": [],
   "source": [
    "import json"
   ]
  },
  {
   "cell_type": "code",
   "execution_count": 10,
   "metadata": {},
   "outputs": [],
   "source": [
    "import pyspark.sql.functions as F"
   ]
  },
  {
   "cell_type": "code",
   "execution_count": 11,
   "metadata": {},
   "outputs": [],
   "source": [
    "from pyspark.sql import SparkSession\n",
    "from pyspark.sql.window import Window"
   ]
  },
  {
   "cell_type": "code",
   "execution_count": 12,
   "metadata": {},
   "outputs": [],
   "source": [
    "config = json.load(open(\"config.json\"))"
   ]
  },
  {
   "cell_type": "code",
   "execution_count": 13,
   "metadata": {},
   "outputs": [
    {
     "name": "stderr",
     "output_type": "stream",
     "text": [
      "24/01/09 00:42:06 WARN Utils: Your hostname, przemyslaw-Latitude-E7450 resolves to a loopback address: 127.0.1.1; using 192.168.1.110 instead (on interface wlp2s0)\n",
      "24/01/09 00:42:06 WARN Utils: Set SPARK_LOCAL_IP if you need to bind to another address\n",
      "24/01/09 00:42:06 WARN NativeCodeLoader: Unable to load native-hadoop library for your platform... using builtin-java classes where applicable\n",
      "Setting default log level to \"WARN\".\n",
      "To adjust logging level use sc.setLogLevel(newLevel). For SparkR, use setLogLevel(newLevel).\n",
      "24/01/09 00:42:09 WARN Utils: Service 'SparkUI' could not bind on port 4040. Attempting port 4041.\n"
     ]
    }
   ],
   "source": [
    "spark = SparkSession.builder\\\n",
    "    .config(\"spark.jars\", config['JDBC_PATH']) \\\n",
    "    .config(\"spark.executor.extraClassPath\", config['JDBC_PATH'])\\\n",
    "    .getOrCreate()"
   ]
  },
  {
   "cell_type": "code",
   "execution_count": 14,
   "metadata": {},
   "outputs": [],
   "source": [
    "dim_calendar = spark.sql(\"\"\"\n",
    "            SELECT explode(sequence(DATE('2016-01-01'),DATE('2025-12-31'),INTERVAL 1 DAY)) AS calendar_full_date\n",
    "        \"\"\") \\\n",
    "        .withColumn(\"calendar_id\", F.row_number().over(Window.orderBy(\"calendar_full_date\"))) \\\n",
    "        .withColumn(\"calendar_full_date_str\", F.col(\"calendar_full_date\").cast(\"string\")) \\\n",
    "        .withColumn(\"calendar_year\", F.year(\"calendar_full_date\")) \\\n",
    "        .withColumn(\"calendar_quarter\", F.quarter(\"calendar_full_date\")) \\\n",
    "        .withColumn(\"calendar_month\", F.month(\"calendar_full_date\")) \\\n",
    "        .withColumn(\"calendar_day\", F.day(\"calendar_full_date\")) \\\n",
    "        .withColumn(\"calendar_weekday\", F.dayofweek(\"calendar_full_date\"))\n",
    "        # TODO\n",
    "        # .withColumn(\"calendar_weekday_str\", F.???(\"calendar_full_date\"))\n",
    "        # .withColumn(\"calendar_is_month_end\", F.???(\"calendar_full_date\"))"
   ]
  },
  {
   "cell_type": "code",
   "execution_count": 15,
   "metadata": {},
   "outputs": [
    {
     "name": "stderr",
     "output_type": "stream",
     "text": [
      "24/01/09 00:42:47 WARN WindowExec: No Partition Defined for Window operation! Moving all data to a single partition, this can cause serious performance degradation.\n",
      "24/01/09 00:42:47 WARN WindowExec: No Partition Defined for Window operation! Moving all data to a single partition, this can cause serious performance degradation.\n",
      "24/01/09 00:42:47 WARN WindowExec: No Partition Defined for Window operation! Moving all data to a single partition, this can cause serious performance degradation.\n",
      "                                                                                \r"
     ]
    },
    {
     "name": "stdout",
     "output_type": "stream",
     "text": [
      "+------------------+-----------+----------------------+-------------+----------------+--------------+------------+----------------+\n",
      "|calendar_full_date|calendar_id|calendar_full_date_str|calendar_year|calendar_quarter|calendar_month|calendar_day|calendar_weekday|\n",
      "+------------------+-----------+----------------------+-------------+----------------+--------------+------------+----------------+\n",
      "|        2016-01-01|          1|            2016-01-01|         2016|               1|             1|           1|               6|\n",
      "|        2016-01-02|          2|            2016-01-02|         2016|               1|             1|           2|               7|\n",
      "|        2016-01-03|          3|            2016-01-03|         2016|               1|             1|           3|               1|\n",
      "|        2016-01-04|          4|            2016-01-04|         2016|               1|             1|           4|               2|\n",
      "|        2016-01-05|          5|            2016-01-05|         2016|               1|             1|           5|               3|\n",
      "|        2016-01-06|          6|            2016-01-06|         2016|               1|             1|           6|               4|\n",
      "|        2016-01-07|          7|            2016-01-07|         2016|               1|             1|           7|               5|\n",
      "|        2016-01-08|          8|            2016-01-08|         2016|               1|             1|           8|               6|\n",
      "|        2016-01-09|          9|            2016-01-09|         2016|               1|             1|           9|               7|\n",
      "|        2016-01-10|         10|            2016-01-10|         2016|               1|             1|          10|               1|\n",
      "|        2016-01-11|         11|            2016-01-11|         2016|               1|             1|          11|               2|\n",
      "|        2016-01-12|         12|            2016-01-12|         2016|               1|             1|          12|               3|\n",
      "|        2016-01-13|         13|            2016-01-13|         2016|               1|             1|          13|               4|\n",
      "|        2016-01-14|         14|            2016-01-14|         2016|               1|             1|          14|               5|\n",
      "|        2016-01-15|         15|            2016-01-15|         2016|               1|             1|          15|               6|\n",
      "|        2016-01-16|         16|            2016-01-16|         2016|               1|             1|          16|               7|\n",
      "|        2016-01-17|         17|            2016-01-17|         2016|               1|             1|          17|               1|\n",
      "|        2016-01-18|         18|            2016-01-18|         2016|               1|             1|          18|               2|\n",
      "|        2016-01-19|         19|            2016-01-19|         2016|               1|             1|          19|               3|\n",
      "|        2016-01-20|         20|            2016-01-20|         2016|               1|             1|          20|               4|\n",
      "+------------------+-----------+----------------------+-------------+----------------+--------------+------------+----------------+\n",
      "only showing top 20 rows\n",
      "\n"
     ]
    }
   ],
   "source": [
    "dim_calendar.show()"
   ]
  },
  {
   "cell_type": "code",
   "execution_count": 16,
   "metadata": {},
   "outputs": [],
   "source": [
    "dbtable = \"dim_calendar\""
   ]
  },
  {
   "cell_type": "code",
   "execution_count": 18,
   "metadata": {},
   "outputs": [
    {
     "name": "stderr",
     "output_type": "stream",
     "text": [
      "Loading class `com.mysql.jdbc.Driver'. This is deprecated. The new driver class is `com.mysql.cj.jdbc.Driver'. The driver is automatically registered via the SPI and manual loading of the driver class is generally unnecessary.\n",
      "24/01/09 00:43:33 WARN WindowExec: No Partition Defined for Window operation! Moving all data to a single partition, this can cause serious performance degradation.\n",
      "24/01/09 00:43:33 WARN WindowExec: No Partition Defined for Window operation! Moving all data to a single partition, this can cause serious performance degradation.\n",
      "24/01/09 00:43:33 WARN WindowExec: No Partition Defined for Window operation! Moving all data to a single partition, this can cause serious performance degradation.\n",
      "24/01/09 00:43:33 WARN WindowExec: No Partition Defined for Window operation! Moving all data to a single partition, this can cause serious performance degradation.\n",
      "24/01/09 00:43:33 WARN WindowExec: No Partition Defined for Window operation! Moving all data to a single partition, this can cause serious performance degradation.\n",
      "                                                                                \r"
     ]
    }
   ],
   "source": [
    "dim_calendar.write.format(\"jdbc\")\\\n",
    "        .option(\"url\",config['DST_DB_URL'])\\\n",
    "        .option(\"driver\", \"com.mysql.jdbc.Driver\")\\\n",
    "        .option(\"dbtable\", \"dim_calendar\")\\\n",
    "        .option(\"user\", config['DST_DB_USER'])\\\n",
    "        .option(\"password\", config['DST_DB_PASSWORD'])\\\n",
    "        .save()"
   ]
  },
  {
   "cell_type": "code",
   "execution_count": null,
   "metadata": {},
   "outputs": [],
   "source": []
  }
 ],
 "metadata": {
  "kernelspec": {
   "display_name": "venvPySpark",
   "language": "python",
   "name": "python3"
  },
  "language_info": {
   "codemirror_mode": {
    "name": "ipython",
    "version": 3
   },
   "file_extension": ".py",
   "mimetype": "text/x-python",
   "name": "python",
   "nbconvert_exporter": "python",
   "pygments_lexer": "ipython3",
   "version": "3.10.12"
  },
  "orig_nbformat": 4
 },
 "nbformat": 4,
 "nbformat_minor": 2
}
