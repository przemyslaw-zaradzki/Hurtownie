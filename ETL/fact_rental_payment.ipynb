{
 "cells": [
  {
   "cell_type": "code",
   "execution_count": 1,
   "metadata": {},
   "outputs": [],
   "source": [
    "import json"
   ]
  },
  {
   "cell_type": "code",
   "execution_count": 2,
   "metadata": {},
   "outputs": [],
   "source": [
    "from pyspark.sql import SparkSession"
   ]
  },
  {
   "cell_type": "code",
   "execution_count": 3,
   "metadata": {},
   "outputs": [],
   "source": [
    "config = json.load(open(\"config.json\"))"
   ]
  },
  {
   "cell_type": "code",
   "execution_count": 4,
   "metadata": {},
   "outputs": [
    {
     "name": "stderr",
     "output_type": "stream",
     "text": [
      "24/01/09 01:06:44 WARN Utils: Your hostname, przemyslaw-Latitude-E7450 resolves to a loopback address: 127.0.1.1; using 192.168.1.110 instead (on interface wlp2s0)\n",
      "24/01/09 01:06:44 WARN Utils: Set SPARK_LOCAL_IP if you need to bind to another address\n",
      "24/01/09 01:06:45 WARN NativeCodeLoader: Unable to load native-hadoop library for your platform... using builtin-java classes where applicable\n",
      "Setting default log level to \"WARN\".\n",
      "To adjust logging level use sc.setLogLevel(newLevel). For SparkR, use setLogLevel(newLevel).\n",
      "24/01/09 01:06:48 WARN Utils: Service 'SparkUI' could not bind on port 4040. Attempting port 4041.\n",
      "24/01/09 01:06:48 WARN Utils: Service 'SparkUI' could not bind on port 4041. Attempting port 4042.\n"
     ]
    }
   ],
   "source": [
    "spark = SparkSession.builder\\\n",
    "    .config(\"spark.jars\", config['JDBC_PATH']) \\\n",
    "    .config(\"spark.executor.extraClassPath\", config['JDBC_PATH'])\\\n",
    "    .getOrCreate()"
   ]
  },
  {
   "cell_type": "code",
   "execution_count": 5,
   "metadata": {},
   "outputs": [],
   "source": [
    "dbtable = \"rental\""
   ]
  },
  {
   "cell_type": "code",
   "execution_count": 6,
   "metadata": {},
   "outputs": [
    {
     "name": "stderr",
     "output_type": "stream",
     "text": [
      "Loading class `com.mysql.jdbc.Driver'. This is deprecated. The new driver class is `com.mysql.cj.jdbc.Driver'. The driver is automatically registered via the SPI and manual loading of the driver class is generally unnecessary.\n"
     ]
    }
   ],
   "source": [
    "df_rental = spark.read.format(\"jdbc\")\\\n",
    "        .option(\"url\",config['SRC_DB_URL'])\\\n",
    "        .option(\"driver\", \"com.mysql.jdbc.Driver\")\\\n",
    "        .option(\"dbtable\", dbtable)\\\n",
    "        .option(\"user\", config['SRC_DB_USER'])\\\n",
    "        .option(\"password\", config['SRC_DB_PASSWORD'])\\\n",
    "        .load()"
   ]
  },
  {
   "cell_type": "code",
   "execution_count": 7,
   "metadata": {},
   "outputs": [],
   "source": [
    "df_rental.createOrReplaceTempView(dbtable)"
   ]
  },
  {
   "cell_type": "code",
   "execution_count": 8,
   "metadata": {},
   "outputs": [
    {
     "name": "stderr",
     "output_type": "stream",
     "text": [
      "                                                                                \r"
     ]
    },
    {
     "name": "stdout",
     "output_type": "stream",
     "text": [
      "+---------+-----------+-----------+------------+--------+-----------+-----------+----------------+-------------------+-------------------+\n",
      "|rental_id|rental_rate|customer_id|inventory_id|staff_id|rental_date|return_date|payment_deadline|        create_date|     technical_date|\n",
      "+---------+-----------+-----------+------------+--------+-----------+-----------+----------------+-------------------+-------------------+\n",
      "|  1300001|     149.00|      94714|           1|       1| 2017-02-25| 2017-03-06|      2017-03-13|2017-02-25 00:00:00|2023-04-16 12:16:42|\n",
      "|  1300007|     149.00|      89117|           1|       1| 2016-02-13| 2016-02-17|      2016-03-02|2016-02-13 00:00:00|2023-04-16 12:16:42|\n",
      "|  1300009|     279.00|      10667|           1|       1| 2016-01-02| 2016-01-11|      2016-01-25|2016-01-02 00:00:00|2023-04-16 12:16:42|\n",
      "|  1300083|     149.00|      68320|           2|       1| 2016-09-02| 2016-09-10|      2016-09-17|2016-09-02 00:00:00|2023-04-16 12:16:42|\n",
      "|  1300085|     189.00|      84405|           2|       1| 2016-07-17| 2016-07-18|      2016-08-01|2016-07-17 00:00:00|2023-04-16 12:16:42|\n",
      "|  1300093|     139.00|      91450|           2|       1| 2016-04-24| 2016-04-25|      2016-05-09|2016-04-24 00:00:00|2023-04-16 12:16:42|\n",
      "|  1300106|     279.00|      45190|           2|       1| 2016-01-02| 2016-01-11|      2016-01-18|2016-01-02 00:00:00|2023-04-16 12:16:42|\n",
      "|  1300169|     169.00|      46343|           3|       1| 2016-11-25| 2016-11-29|      2016-12-13|2016-11-25 00:00:00|2023-04-16 12:16:42|\n",
      "|  1300170|     279.00|     106739|           3|       1| 2016-08-07| 2016-08-10|      2016-08-24|2016-08-07 00:00:00|2023-04-16 12:16:42|\n",
      "|  1300171|     149.00|      66673|           3|       1| 2016-07-04| 2016-07-05|      2016-07-19|2016-07-04 00:00:00|2023-04-16 12:16:42|\n",
      "|  1300173|     149.00|      66789|           3|       1| 2016-01-16| 2016-01-31|      2016-02-14|2016-01-16 00:00:00|2023-04-16 12:16:42|\n",
      "|  1300247|     139.00|      31370|           3|       1| 2016-01-04| 2016-01-09|      2016-01-16|2016-01-04 00:00:00|2023-04-16 12:16:42|\n",
      "|  1300249|     119.00|      57609|           4|       1| 2016-10-29| 2016-11-09|      2016-11-23|2016-10-29 00:00:00|2023-04-16 12:16:42|\n",
      "|  1300251|     179.00|     118750|           4|       1| 2016-05-22| 2016-05-25|      2016-06-01|2016-05-22 00:00:00|2023-04-16 12:16:42|\n",
      "|  1300255|     279.00|     118414|           4|       1| 2016-03-13| 2016-03-23|      2016-03-30|2016-03-13 00:00:00|2023-04-16 12:16:42|\n",
      "|  1300261|     119.00|      48094|           4|       1| 2016-01-03| 2016-01-15|      2016-01-29|2016-01-03 00:00:00|2023-04-16 12:16:42|\n",
      "|  1300335|     279.00|      94109|           5|       1| 2016-03-26| 2016-04-05|      2016-04-12|2016-03-26 00:00:00|2023-04-16 12:16:42|\n",
      "|  1300373|     279.00|      51303|           5|       1| 2016-01-09| 2016-01-21|      2016-02-04|2016-01-09 00:00:00|2023-04-16 12:16:42|\n",
      "|  1300416|     179.00|      57379|           5|       1| 2016-01-01| 2016-01-05|      2016-01-19|2016-01-01 00:00:00|2023-04-16 12:16:42|\n",
      "|  1300420|     279.00|      26192|           7|       1| 2016-02-27| 2016-03-04|      2016-03-11|2016-02-27 00:00:00|2023-04-16 12:16:42|\n",
      "+---------+-----------+-----------+------------+--------+-----------+-----------+----------------+-------------------+-------------------+\n",
      "only showing top 20 rows\n",
      "\n"
     ]
    }
   ],
   "source": [
    "df_rental.show()"
   ]
  },
  {
   "cell_type": "code",
   "execution_count": 9,
   "metadata": {},
   "outputs": [],
   "source": [
    "dbtable = \"payment\""
   ]
  },
  {
   "cell_type": "code",
   "execution_count": 10,
   "metadata": {},
   "outputs": [],
   "source": [
    "df_payment = spark.read.format(\"jdbc\")\\\n",
    "        .option(\"url\",config['SRC_DB_URL'])\\\n",
    "        .option(\"driver\", \"com.mysql.jdbc.Driver\")\\\n",
    "        .option(\"dbtable\", dbtable)\\\n",
    "        .option(\"user\", config['SRC_DB_USER'])\\\n",
    "        .option(\"password\", config['SRC_DB_PASSWORD'])\\\n",
    "        .load()"
   ]
  },
  {
   "cell_type": "code",
   "execution_count": 11,
   "metadata": {},
   "outputs": [],
   "source": [
    "df_payment.createOrReplaceTempView(dbtable)"
   ]
  },
  {
   "cell_type": "code",
   "execution_count": 12,
   "metadata": {},
   "outputs": [
    {
     "name": "stdout",
     "output_type": "stream",
     "text": [
      "+---------+-----------+-----------+------------+--------+-----------+-----------+----------------+-------------------+-------------------+\n",
      "|rental_id|rental_rate|customer_id|inventory_id|staff_id|rental_date|return_date|payment_deadline|        create_date|     technical_date|\n",
      "+---------+-----------+-----------+------------+--------+-----------+-----------+----------------+-------------------+-------------------+\n",
      "|  1300001|     149.00|      94714|           1|       1| 2017-02-25| 2017-03-06|      2017-03-13|2017-02-25 00:00:00|2023-04-16 12:16:42|\n",
      "|  1300007|     149.00|      89117|           1|       1| 2016-02-13| 2016-02-17|      2016-03-02|2016-02-13 00:00:00|2023-04-16 12:16:42|\n",
      "|  1300009|     279.00|      10667|           1|       1| 2016-01-02| 2016-01-11|      2016-01-25|2016-01-02 00:00:00|2023-04-16 12:16:42|\n",
      "|  1300083|     149.00|      68320|           2|       1| 2016-09-02| 2016-09-10|      2016-09-17|2016-09-02 00:00:00|2023-04-16 12:16:42|\n",
      "|  1300085|     189.00|      84405|           2|       1| 2016-07-17| 2016-07-18|      2016-08-01|2016-07-17 00:00:00|2023-04-16 12:16:42|\n",
      "|  1300093|     139.00|      91450|           2|       1| 2016-04-24| 2016-04-25|      2016-05-09|2016-04-24 00:00:00|2023-04-16 12:16:42|\n",
      "|  1300106|     279.00|      45190|           2|       1| 2016-01-02| 2016-01-11|      2016-01-18|2016-01-02 00:00:00|2023-04-16 12:16:42|\n",
      "|  1300169|     169.00|      46343|           3|       1| 2016-11-25| 2016-11-29|      2016-12-13|2016-11-25 00:00:00|2023-04-16 12:16:42|\n",
      "|  1300170|     279.00|     106739|           3|       1| 2016-08-07| 2016-08-10|      2016-08-24|2016-08-07 00:00:00|2023-04-16 12:16:42|\n",
      "|  1300171|     149.00|      66673|           3|       1| 2016-07-04| 2016-07-05|      2016-07-19|2016-07-04 00:00:00|2023-04-16 12:16:42|\n",
      "|  1300173|     149.00|      66789|           3|       1| 2016-01-16| 2016-01-31|      2016-02-14|2016-01-16 00:00:00|2023-04-16 12:16:42|\n",
      "|  1300247|     139.00|      31370|           3|       1| 2016-01-04| 2016-01-09|      2016-01-16|2016-01-04 00:00:00|2023-04-16 12:16:42|\n",
      "|  1300249|     119.00|      57609|           4|       1| 2016-10-29| 2016-11-09|      2016-11-23|2016-10-29 00:00:00|2023-04-16 12:16:42|\n",
      "|  1300251|     179.00|     118750|           4|       1| 2016-05-22| 2016-05-25|      2016-06-01|2016-05-22 00:00:00|2023-04-16 12:16:42|\n",
      "|  1300255|     279.00|     118414|           4|       1| 2016-03-13| 2016-03-23|      2016-03-30|2016-03-13 00:00:00|2023-04-16 12:16:42|\n",
      "|  1300261|     119.00|      48094|           4|       1| 2016-01-03| 2016-01-15|      2016-01-29|2016-01-03 00:00:00|2023-04-16 12:16:42|\n",
      "|  1300335|     279.00|      94109|           5|       1| 2016-03-26| 2016-04-05|      2016-04-12|2016-03-26 00:00:00|2023-04-16 12:16:42|\n",
      "|  1300373|     279.00|      51303|           5|       1| 2016-01-09| 2016-01-21|      2016-02-04|2016-01-09 00:00:00|2023-04-16 12:16:42|\n",
      "|  1300416|     179.00|      57379|           5|       1| 2016-01-01| 2016-01-05|      2016-01-19|2016-01-01 00:00:00|2023-04-16 12:16:42|\n",
      "|  1300420|     279.00|      26192|           7|       1| 2016-02-27| 2016-03-04|      2016-03-11|2016-02-27 00:00:00|2023-04-16 12:16:42|\n",
      "+---------+-----------+-----------+------------+--------+-----------+-----------+----------------+-------------------+-------------------+\n",
      "only showing top 20 rows\n",
      "\n"
     ]
    }
   ],
   "source": [
    "df_rental.show()"
   ]
  },
  {
   "cell_type": "code",
   "execution_count": 13,
   "metadata": {},
   "outputs": [],
   "source": [
    "dbtable = \"dim_inventory\""
   ]
  },
  {
   "cell_type": "code",
   "execution_count": 14,
   "metadata": {},
   "outputs": [],
   "source": [
    "df_dim_inventory = spark.read.format(\"jdbc\")\\\n",
    "        .option(\"url\",config['DST_DB_URL'])\\\n",
    "        .option(\"driver\", \"com.mysql.jdbc.Driver\")\\\n",
    "        .option(\"dbtable\", dbtable)\\\n",
    "        .option(\"user\", config['DST_DB_USER'])\\\n",
    "        .option(\"password\", config['DST_DB_PASSWORD'])\\\n",
    "        .load()"
   ]
  },
  {
   "cell_type": "code",
   "execution_count": 15,
   "metadata": {},
   "outputs": [],
   "source": [
    "df_dim_inventory.createOrReplaceTempView(dbtable)"
   ]
  },
  {
   "cell_type": "code",
   "execution_count": 16,
   "metadata": {},
   "outputs": [],
   "source": [
    "dbtable = \"dim_customer\""
   ]
  },
  {
   "cell_type": "code",
   "execution_count": 17,
   "metadata": {},
   "outputs": [],
   "source": [
    "df_dim_customer = spark.read.format(\"jdbc\")\\\n",
    "        .option(\"url\",config['DST_DB_URL'])\\\n",
    "        .option(\"driver\", \"com.mysql.jdbc.Driver\")\\\n",
    "        .option(\"dbtable\", dbtable)\\\n",
    "        .option(\"user\", config['DST_DB_USER'])\\\n",
    "        .option(\"password\", config['DST_DB_PASSWORD'])\\\n",
    "        .load()"
   ]
  },
  {
   "cell_type": "code",
   "execution_count": 18,
   "metadata": {},
   "outputs": [],
   "source": [
    "df_dim_customer.createOrReplaceTempView(dbtable)"
   ]
  },
  {
   "cell_type": "code",
   "execution_count": 19,
   "metadata": {},
   "outputs": [],
   "source": [
    "dbtable = \"dim_store\""
   ]
  },
  {
   "cell_type": "code",
   "execution_count": 20,
   "metadata": {},
   "outputs": [],
   "source": [
    "df_dim_store = spark.read.format(\"jdbc\")\\\n",
    "        .option(\"url\",config['DST_DB_URL'])\\\n",
    "        .option(\"driver\", \"com.mysql.jdbc.Driver\")\\\n",
    "        .option(\"dbtable\", dbtable)\\\n",
    "        .option(\"user\", config['DST_DB_USER'])\\\n",
    "        .option(\"password\", config['DST_DB_PASSWORD'])\\\n",
    "        .load()"
   ]
  },
  {
   "cell_type": "code",
   "execution_count": 21,
   "metadata": {},
   "outputs": [],
   "source": [
    "df_dim_store.createOrReplaceTempView(dbtable)"
   ]
  },
  {
   "cell_type": "code",
   "execution_count": 22,
   "metadata": {},
   "outputs": [],
   "source": [
    "dbtable = \"dim_inventory\""
   ]
  },
  {
   "cell_type": "code",
   "execution_count": 23,
   "metadata": {},
   "outputs": [],
   "source": [
    "df_dim_inventory = spark.read.format(\"jdbc\")\\\n",
    "        .option(\"url\",config['DST_DB_URL'])\\\n",
    "        .option(\"driver\", \"com.mysql.jdbc.Driver\")\\\n",
    "        .option(\"dbtable\", dbtable)\\\n",
    "        .option(\"user\", config['DST_DB_USER'])\\\n",
    "        .option(\"password\", config['DST_DB_PASSWORD'])\\\n",
    "        .load()"
   ]
  },
  {
   "cell_type": "code",
   "execution_count": 24,
   "metadata": {},
   "outputs": [],
   "source": [
    "df_dim_inventory.createOrReplaceTempView(dbtable)"
   ]
  },
  {
   "cell_type": "code",
   "execution_count": 25,
   "metadata": {},
   "outputs": [],
   "source": [
    "dbtable = \"dim_staff\""
   ]
  },
  {
   "cell_type": "code",
   "execution_count": 26,
   "metadata": {},
   "outputs": [],
   "source": [
    "df_dim_staff = spark.read.format(\"jdbc\")\\\n",
    "        .option(\"url\",config['DST_DB_URL'])\\\n",
    "        .option(\"driver\", \"com.mysql.jdbc.Driver\")\\\n",
    "        .option(\"dbtable\", dbtable)\\\n",
    "        .option(\"user\", config['DST_DB_USER'])\\\n",
    "        .option(\"password\", config['DST_DB_PASSWORD'])\\\n",
    "        .load()"
   ]
  },
  {
   "cell_type": "code",
   "execution_count": 27,
   "metadata": {},
   "outputs": [],
   "source": [
    "df_dim_staff.createOrReplaceTempView(dbtable)"
   ]
  },
  {
   "cell_type": "code",
   "execution_count": 28,
   "metadata": {},
   "outputs": [],
   "source": [
    "dbtable = \"dim_calendar\""
   ]
  },
  {
   "cell_type": "code",
   "execution_count": 29,
   "metadata": {},
   "outputs": [],
   "source": [
    "df_dim_calendar = spark.read.format(\"jdbc\")\\\n",
    "        .option(\"url\",config['DST_DB_URL'])\\\n",
    "        .option(\"driver\", \"com.mysql.jdbc.Driver\")\\\n",
    "        .option(\"dbtable\", dbtable)\\\n",
    "        .option(\"user\", config['DST_DB_USER'])\\\n",
    "        .option(\"password\", config['DST_DB_PASSWORD'])\\\n",
    "        .load()"
   ]
  },
  {
   "cell_type": "code",
   "execution_count": 30,
   "metadata": {},
   "outputs": [],
   "source": [
    "df_dim_calendar.createOrReplaceTempView(dbtable)"
   ]
  },
  {
   "cell_type": "code",
   "execution_count": 31,
   "metadata": {},
   "outputs": [],
   "source": [
    "fact_rental_payment = spark.sql(\"\"\"\n",
    "SELECT\n",
    "ROW_NUMBER() OVER(ORDER BY r.rental_id) AS rental_payment_id,\n",
    "c.customer_id AS customer_id,\n",
    "i.inventory_id AS inventory_id,\n",
    "stf.staff_id AS staff_id,\n",
    "s.store_id AS store_id,\n",
    "cal_rental_date.calendar_id AS rental_date_id,\n",
    "cal_return_date.calendar_id AS return_date_id,\n",
    "cal_payment_deadline.calendar_id AS payment_deadline_date_id,\n",
    "p.amount AS payment_amount\n",
    "-- TODO\n",
    "-- i.rental_rate -- Dodać to dim_rental\n",
    "-- rental_rate ???\n",
    "FROM payment AS p\n",
    "JOIN rental AS r ON p.rental_id = r.rental_id\n",
    "JOIN dim_customer AS c ON p.customer_id = c.customer_key\n",
    "JOIN dim_inventory AS i ON r.inventory_id = i.inventory_key\n",
    "JOIN dim_store AS s ON i.inventory_store_key = s.store_key    -- Konwencja łączenia tabel wymiarów -key czy id\n",
    "JOIN dim_staff AS stf ON r.staff_id = stf.staff_key\n",
    "JOIN dim_calendar AS cal_rental_date ON r.rental_date = cal_rental_date.calendar_full_date\n",
    "JOIN dim_calendar AS cal_return_date ON r.return_date = cal_return_date.calendar_full_date\n",
    "JOIN dim_calendar AS cal_payment_deadline ON r.payment_deadline = cal_payment_deadline.calendar_full_date\n",
    "\"\"\")"
   ]
  },
  {
   "cell_type": "code",
   "execution_count": 32,
   "metadata": {},
   "outputs": [
    {
     "name": "stderr",
     "output_type": "stream",
     "text": [
      "24/01/09 01:08:35 WARN WindowExec: No Partition Defined for Window operation! Moving all data to a single partition, this can cause serious performance degradation.\n",
      "24/01/09 01:08:35 WARN WindowExec: No Partition Defined for Window operation! Moving all data to a single partition, this can cause serious performance degradation.\n",
      "24/01/09 01:08:35 WARN WindowExec: No Partition Defined for Window operation! Moving all data to a single partition, this can cause serious performance degradation.\n",
      "24/01/09 01:08:38 WARN WindowExec: No Partition Defined for Window operation! Moving all data to a single partition, this can cause serious performance degradation.\n",
      "24/01/09 01:08:38 WARN WindowExec: No Partition Defined for Window operation! Moving all data to a single partition, this can cause serious performance degradation.\n",
      "24/01/09 01:08:39 WARN WindowExec: No Partition Defined for Window operation! Moving all data to a single partition, this can cause serious performance degradation.\n",
      "24/01/09 01:08:39 WARN WindowExec: No Partition Defined for Window operation! Moving all data to a single partition, this can cause serious performance degradation.\n",
      "24/01/09 01:08:40 WARN WindowExec: No Partition Defined for Window operation! Moving all data to a single partition, this can cause serious performance degradation.\n",
      "24/01/09 01:08:40 WARN WindowExec: No Partition Defined for Window operation! Moving all data to a single partition, this can cause serious performance degradation.\n",
      "24/01/09 01:08:40 WARN WindowExec: No Partition Defined for Window operation! Moving all data to a single partition, this can cause serious performance degradation.\n",
      "24/01/09 01:08:40 WARN WindowExec: No Partition Defined for Window operation! Moving all data to a single partition, this can cause serious performance degradation.\n",
      "24/01/09 01:08:41 WARN WindowExec: No Partition Defined for Window operation! Moving all data to a single partition, this can cause serious performance degradation.\n",
      "24/01/09 01:08:41 WARN WindowExec: No Partition Defined for Window operation! Moving all data to a single partition, this can cause serious performance degradation.\n",
      "24/01/09 01:08:41 WARN WindowExec: No Partition Defined for Window operation! Moving all data to a single partition, this can cause serious performance degradation.\n",
      "24/01/09 01:08:41 WARN WindowExec: No Partition Defined for Window operation! Moving all data to a single partition, this can cause serious performance degradation.\n",
      "24/01/09 01:08:42 WARN WindowExec: No Partition Defined for Window operation! Moving all data to a single partition, this can cause serious performance degradation.\n",
      "24/01/09 01:08:42 WARN WindowExec: No Partition Defined for Window operation! Moving all data to a single partition, this can cause serious performance degradation.\n",
      "24/01/09 01:08:42 WARN WindowExec: No Partition Defined for Window operation! Moving all data to a single partition, this can cause serious performance degradation.\n",
      "24/01/09 01:08:42 WARN WindowExec: No Partition Defined for Window operation! Moving all data to a single partition, this can cause serious performance degradation.\n",
      "24/01/09 01:08:43 WARN WindowExec: No Partition Defined for Window operation! Moving all data to a single partition, this can cause serious performance degradation.\n",
      "24/01/09 01:08:43 WARN WindowExec: No Partition Defined for Window operation! Moving all data to a single partition, this can cause serious performance degradation.\n",
      "24/01/09 01:08:43 WARN WindowExec: No Partition Defined for Window operation! Moving all data to a single partition, this can cause serious performance degradation.\n",
      "[Stage 24:===================>                                      (1 + 2) / 3]\r"
     ]
    },
    {
     "name": "stdout",
     "output_type": "stream",
     "text": [
      "+-----------------+-----------+------------+--------+--------+--------------+--------------+------------------------+--------------+\n",
      "|rental_payment_id|customer_id|inventory_id|staff_id|store_id|rental_date_id|return_date_id|payment_deadline_date_id|payment_amount|\n",
      "+-----------------+-----------+------------+--------+--------+--------------+--------------+------------------------+--------------+\n",
      "|                1|      62564|           1|       1|       5|           422|           431|                     438|       1341.00|\n",
      "|                2|      58572|           1|       1|       5|            44|            48|                      62|        596.00|\n",
      "|                3|       1796|           1|       1|       5|             2|            11|                      25|       2511.00|\n",
      "|                4|      43497|           2|       1|       5|           246|           254|                     261|       1192.00|\n",
      "|                5|      55138|           2|       1|       5|           199|           200|                     214|        189.00|\n",
      "|                6|      60244|           2|       1|       5|           115|           116|                     130|        139.00|\n",
      "|                7|      26697|           2|       1|       5|             2|            11|                      18|       2511.00|\n",
      "|                8|      27525|           3|       1|       4|           330|           334|                     348|        676.00|\n",
      "|                9|      71328|           3|       1|       4|           220|           223|                     237|        837.00|\n",
      "|               10|      42342|           3|       1|       4|           186|           187|                     201|        149.00|\n",
      "|               11|      42425|           3|       1|       4|            16|            31|                      45|       2235.00|\n",
      "|               12|      16705|           3|       1|       4|             4|             9|                      16|        695.00|\n",
      "|               13|      35760|           4|       1|       9|           303|           314|                     328|       1309.00|\n",
      "|               14|      79983|           4|       1|       9|           143|           146|                     153|        537.00|\n",
      "|               15|      79748|           4|       1|       9|            73|            83|                      90|       2790.00|\n",
      "|               16|      28839|           4|       1|       9|             3|            15|                      29|       1428.00|\n",
      "|               17|      62103|           5|       1|       2|            86|            96|                     103|       2790.00|\n",
      "|               18|      31187|           5|       1|       2|             9|            21|                      35|       3348.00|\n",
      "|               19|      35594|           5|       1|       2|             1|             5|                      19|        716.00|\n",
      "|               20|      12931|           7|       1|       8|            58|            64|                      71|       1674.00|\n",
      "+-----------------+-----------+------------+--------+--------+--------------+--------------+------------------------+--------------+\n",
      "only showing top 20 rows\n",
      "\n"
     ]
    },
    {
     "name": "stderr",
     "output_type": "stream",
     "text": [
      "                                                                                \r"
     ]
    }
   ],
   "source": [
    "fact_rental_payment.show()"
   ]
  },
  {
   "cell_type": "code",
   "execution_count": 33,
   "metadata": {},
   "outputs": [],
   "source": [
    "fact_rental_payment.createOrReplaceTempView(\"fact_rental_payment\")"
   ]
  },
  {
   "cell_type": "code",
   "execution_count": null,
   "metadata": {},
   "outputs": [],
   "source": [
    "spark.sql(\"\"\"\n",
    "ALTER TABLE fact_rental_payment ADD PRIMARY KEY (rental_payment_id)\n",
    "ALTER TABLE dim_customer ADD PRIMARY KEY (customer_id)\n",
    "ALTER TABLE dim_store ADD PRIMARY KEY (store_id)\n",
    "ALTER TABLE dim_staff ADD PRIMARY KEY (staff_id)\n",
    "\n",
    "ALTER TABLE fact_rental_payment\n",
    "ADD CONSTRAINT fact_rental_payment_FK\n",
    "FOREIGN KEY (inventory_id) REFERENCES dim_inventory (inventory_id)\n",
    "\n",
    "ALTER TABLE fact_rental_payment\n",
    "ADD CONSTRAINT fact_rental_payment_FK2\n",
    "FOREIGN KEY (customer_id) REFERENCES dim_customer (customer_id)\n",
    "\n",
    "ALTER TABLE fact_rental_payment\n",
    "ADD CONSTRAINT fact_rental_payment_FK3\n",
    "FOREIGN KEY (store_id) REFERENCES dim_store (store_id)\n",
    "\n",
    "ALTER TABLE fact_rental_payment\n",
    "ADD CONSTRAINT fact_rental_payment_FK4\n",
    "FOREIGN KEY (staff_id) REFERENCES dim_staff (staff_id)\n",
    "\"\"\")"
   ]
  },
  {
   "cell_type": "code",
   "execution_count": 34,
   "metadata": {},
   "outputs": [
    {
     "name": "stderr",
     "output_type": "stream",
     "text": [
      "24/01/09 01:10:08 WARN WindowExec: No Partition Defined for Window operation! Moving all data to a single partition, this can cause serious performance degradation.\n",
      "24/01/09 01:10:08 WARN WindowExec: No Partition Defined for Window operation! Moving all data to a single partition, this can cause serious performance degradation.\n",
      "24/01/09 01:10:08 WARN WindowExec: No Partition Defined for Window operation! Moving all data to a single partition, this can cause serious performance degradation.\n",
      "24/01/09 01:10:09 WARN WindowExec: No Partition Defined for Window operation! Moving all data to a single partition, this can cause serious performance degradation.\n",
      "24/01/09 01:10:09 WARN WindowExec: No Partition Defined for Window operation! Moving all data to a single partition, this can cause serious performance degradation.\n",
      "24/01/09 01:10:09 WARN WindowExec: No Partition Defined for Window operation! Moving all data to a single partition, this can cause serious performance degradation.\n",
      "24/01/09 01:10:09 WARN WindowExec: No Partition Defined for Window operation! Moving all data to a single partition, this can cause serious performance degradation.\n",
      "24/01/09 01:10:09 WARN WindowExec: No Partition Defined for Window operation! Moving all data to a single partition, this can cause serious performance degradation.\n",
      "24/01/09 01:10:09 WARN WindowExec: No Partition Defined for Window operation! Moving all data to a single partition, this can cause serious performance degradation.\n",
      "24/01/09 01:10:10 WARN WindowExec: No Partition Defined for Window operation! Moving all data to a single partition, this can cause serious performance degradation.\n",
      "24/01/09 01:10:10 WARN WindowExec: No Partition Defined for Window operation! Moving all data to a single partition, this can cause serious performance degradation.\n",
      "24/01/09 01:10:10 WARN WindowExec: No Partition Defined for Window operation! Moving all data to a single partition, this can cause serious performance degradation.\n",
      "24/01/09 01:10:10 WARN WindowExec: No Partition Defined for Window operation! Moving all data to a single partition, this can cause serious performance degradation.\n",
      "24/01/09 01:10:10 WARN WindowExec: No Partition Defined for Window operation! Moving all data to a single partition, this can cause serious performance degradation.\n",
      "24/01/09 01:10:10 WARN WindowExec: No Partition Defined for Window operation! Moving all data to a single partition, this can cause serious performance degradation.\n",
      "24/01/09 01:10:10 WARN WindowExec: No Partition Defined for Window operation! Moving all data to a single partition, this can cause serious performance degradation.\n",
      "24/01/09 01:10:10 WARN WindowExec: No Partition Defined for Window operation! Moving all data to a single partition, this can cause serious performance degradation.\n",
      "24/01/09 01:10:10 WARN WindowExec: No Partition Defined for Window operation! Moving all data to a single partition, this can cause serious performance degradation.\n",
      "24/01/09 01:10:10 WARN WindowExec: No Partition Defined for Window operation! Moving all data to a single partition, this can cause serious performance degradation.\n",
      "24/01/09 01:10:10 WARN WindowExec: No Partition Defined for Window operation! Moving all data to a single partition, this can cause serious performance degradation.\n",
      "24/01/09 01:10:10 WARN WindowExec: No Partition Defined for Window operation! Moving all data to a single partition, this can cause serious performance degradation.\n",
      "24/01/09 01:10:11 WARN WindowExec: No Partition Defined for Window operation! Moving all data to a single partition, this can cause serious performance degradation.\n",
      "24/01/09 01:10:11 WARN WindowExec: No Partition Defined for Window operation! Moving all data to a single partition, this can cause serious performance degradation.\n",
      "24/01/09 01:10:11 WARN WindowExec: No Partition Defined for Window operation! Moving all data to a single partition, this can cause serious performance degradation.\n",
      "24/01/09 01:10:11 WARN WindowExec: No Partition Defined for Window operation! Moving all data to a single partition, this can cause serious performance degradation.\n",
      "24/01/09 01:10:11 WARN WindowExec: No Partition Defined for Window operation! Moving all data to a single partition, this can cause serious performance degradation.\n",
      "24/01/09 01:10:11 WARN WindowExec: No Partition Defined for Window operation! Moving all data to a single partition, this can cause serious performance degradation.\n",
      "24/01/09 01:10:12 WARN WindowExec: No Partition Defined for Window operation! Moving all data to a single partition, this can cause serious performance degradation.\n",
      "24/01/09 01:10:12 WARN WindowExec: No Partition Defined for Window operation! Moving all data to a single partition, this can cause serious performance degradation.\n",
      "24/01/09 01:10:12 WARN WindowExec: No Partition Defined for Window operation! Moving all data to a single partition, this can cause serious performance degradation.\n",
      "24/01/09 01:10:12 WARN WindowExec: No Partition Defined for Window operation! Moving all data to a single partition, this can cause serious performance degradation.\n",
      "                                                                                \r"
     ]
    }
   ],
   "source": [
    "fact_rental_payment.write.format(\"jdbc\")\\\n",
    "        .option(\"url\",config['DST_DB_URL'])\\\n",
    "        .option(\"driver\", \"com.mysql.jdbc.Driver\")\\\n",
    "        .option(\"dbtable\", \"fact_rental_payment\")\\\n",
    "        .option(\"user\", config['DST_DB_USER'])\\\n",
    "        .option(\"password\", config['DST_DB_PASSWORD'])\\\n",
    "        .save()"
   ]
  },
  {
   "cell_type": "code",
   "execution_count": null,
   "metadata": {},
   "outputs": [],
   "source": []
  }
 ],
 "metadata": {
  "kernelspec": {
   "display_name": "venvPySpark",
   "language": "python",
   "name": "python3"
  },
  "language_info": {
   "codemirror_mode": {
    "name": "ipython",
    "version": 3
   },
   "file_extension": ".py",
   "mimetype": "text/x-python",
   "name": "python",
   "nbconvert_exporter": "python",
   "pygments_lexer": "ipython3",
   "version": "3.10.12"
  },
  "orig_nbformat": 4
 },
 "nbformat": 4,
 "nbformat_minor": 2
}
