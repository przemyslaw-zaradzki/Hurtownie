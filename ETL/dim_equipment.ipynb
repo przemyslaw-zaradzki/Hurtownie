{
 "cells": [
  {
   "cell_type": "code",
   "execution_count": 1,
   "metadata": {},
   "outputs": [],
   "source": [
    "import json"
   ]
  },
  {
   "cell_type": "code",
   "execution_count": 2,
   "metadata": {},
   "outputs": [],
   "source": [
    "from pyspark.sql import SparkSession"
   ]
  },
  {
   "cell_type": "code",
   "execution_count": 3,
   "metadata": {},
   "outputs": [],
   "source": [
    "config = json.load(open(\"config.json\"))"
   ]
  },
  {
   "cell_type": "code",
   "execution_count": 4,
   "metadata": {},
   "outputs": [
    {
     "name": "stderr",
     "output_type": "stream",
     "text": [
      "24/01/09 00:53:25 WARN Utils: Your hostname, przemyslaw-Latitude-E7450 resolves to a loopback address: 127.0.1.1; using 192.168.1.110 instead (on interface wlp2s0)\n",
      "24/01/09 00:53:26 WARN Utils: Set SPARK_LOCAL_IP if you need to bind to another address\n",
      "24/01/09 00:53:27 WARN NativeCodeLoader: Unable to load native-hadoop library for your platform... using builtin-java classes where applicable\n",
      "Setting default log level to \"WARN\".\n",
      "To adjust logging level use sc.setLogLevel(newLevel). For SparkR, use setLogLevel(newLevel).\n",
      "24/01/09 00:53:30 WARN Utils: Service 'SparkUI' could not bind on port 4040. Attempting port 4041.\n",
      "24/01/09 00:53:30 WARN Utils: Service 'SparkUI' could not bind on port 4041. Attempting port 4042.\n",
      "24/01/09 00:53:30 WARN Utils: Service 'SparkUI' could not bind on port 4042. Attempting port 4043.\n"
     ]
    }
   ],
   "source": [
    "spark = SparkSession.builder\\\n",
    "    .config(\"spark.jars\", config['JDBC_PATH']) \\\n",
    "    .config(\"spark.executor.extraClassPath\", config['JDBC_PATH'])\\\n",
    "    .getOrCreate()"
   ]
  },
  {
   "cell_type": "code",
   "execution_count": 5,
   "metadata": {},
   "outputs": [],
   "source": [
    "dbtable = \"equipment\""
   ]
  },
  {
   "cell_type": "code",
   "execution_count": 6,
   "metadata": {},
   "outputs": [
    {
     "name": "stderr",
     "output_type": "stream",
     "text": [
      "Loading class `com.mysql.jdbc.Driver'. This is deprecated. The new driver class is `com.mysql.cj.jdbc.Driver'. The driver is automatically registered via the SPI and manual loading of the driver class is generally unnecessary.\n"
     ]
    }
   ],
   "source": [
    "df_equipment = spark.read.format(\"jdbc\")\\\n",
    "        .option(\"url\",config['SRC_DB_URL'])\\\n",
    "        .option(\"driver\", \"com.mysql.jdbc.Driver\")\\\n",
    "        .option(\"dbtable\", dbtable)\\\n",
    "        .option(\"user\", config['SRC_DB_USER'])\\\n",
    "        .option(\"password\", config['SRC_DB_PASSWORD'])\\\n",
    "        .load()"
   ]
  },
  {
   "cell_type": "code",
   "execution_count": 7,
   "metadata": {},
   "outputs": [],
   "source": [
    "df_equipment.createOrReplaceTempView(dbtable)"
   ]
  },
  {
   "cell_type": "code",
   "execution_count": 8,
   "metadata": {},
   "outputs": [],
   "source": [
    "dim_equipment = spark.sql(\"\"\"\n",
    "SELECT\n",
    "ROW_NUMBER() OVER(ORDER BY e.equipment_id) AS equipment_id,\n",
    "e.equipment_id AS equipment_key,\n",
    "e.name AS equipment_name,\n",
    "e.type AS equipment_type,\n",
    "e.version AS equipment_version\n",
    "FROM equipment AS e\n",
    "\"\"\")"
   ]
  },
  {
   "cell_type": "code",
   "execution_count": 9,
   "metadata": {},
   "outputs": [
    {
     "name": "stderr",
     "output_type": "stream",
     "text": [
      "24/01/09 00:53:54 WARN WindowExec: No Partition Defined for Window operation! Moving all data to a single partition, this can cause serious performance degradation.\n",
      "24/01/09 00:53:54 WARN WindowExec: No Partition Defined for Window operation! Moving all data to a single partition, this can cause serious performance degradation.\n",
      "24/01/09 00:53:54 WARN WindowExec: No Partition Defined for Window operation! Moving all data to a single partition, this can cause serious performance degradation.\n",
      "                                                                                \r"
     ]
    },
    {
     "name": "stdout",
     "output_type": "stream",
     "text": [
      "+------------+-------------+----------------+-----------------+-----------------+\n",
      "|equipment_id|equipment_key|  equipment_name|   equipment_type|equipment_version|\n",
      "+------------+-------------+----------------+-----------------+-----------------+\n",
      "|           1|            1|  Cruise control|           Normal|             NULL|\n",
      "|           2|            2|  Cruise control|           Active|             NULL|\n",
      "|           3|            3|Air conditioning|            Basic|             NULL|\n",
      "|           4|            4|Air conditioning|         Two-zone|             NULL|\n",
      "|           5|            5|Air conditioning|       Multi-zone|             NULL|\n",
      "|           6|            6|             ABS|           Normal|             NULL|\n",
      "|           7|            7|            Seat|            Basic|             NULL|\n",
      "|           8|            8|            Seat|           Heated|             NULL|\n",
      "|           9|            9|            Seat|Electric Movement|             NULL|\n",
      "|          10|           10|         Windows|           Manual|             NULL|\n",
      "|          11|           11|         Windows|         Electric|             NULL|\n",
      "|          12|           12|   Entertainment|            Radio|             NULL|\n",
      "|          13|           13|   Entertainment|        CD Player|             NULL|\n",
      "|          14|           14|   Entertainment|       Navigation|             NULL|\n",
      "|          15|           15|   Entertainment|    Apple CarPlay|             NULL|\n",
      "|          16|           16|   Entertainment|     Android Auto|             NULL|\n",
      "|          17|           17|   Entertainment|        Bluetooth|              4.0|\n",
      "|          18|           18|   Entertainment|        Bluetooth|              5.0|\n",
      "|          19|           19|         Gearbox|           Manual|             NULL|\n",
      "|          20|           20|         Gearbox|        Automatic|             NULL|\n",
      "+------------+-------------+----------------+-----------------+-----------------+\n",
      "only showing top 20 rows\n",
      "\n"
     ]
    }
   ],
   "source": [
    "dim_equipment.show()"
   ]
  },
  {
   "cell_type": "code",
   "execution_count": 11,
   "metadata": {},
   "outputs": [
    {
     "name": "stderr",
     "output_type": "stream",
     "text": [
      "24/01/09 00:54:16 WARN WindowExec: No Partition Defined for Window operation! Moving all data to a single partition, this can cause serious performance degradation.\n",
      "24/01/09 00:54:16 WARN WindowExec: No Partition Defined for Window operation! Moving all data to a single partition, this can cause serious performance degradation.\n",
      "24/01/09 00:54:16 WARN WindowExec: No Partition Defined for Window operation! Moving all data to a single partition, this can cause serious performance degradation.\n",
      "24/01/09 00:54:16 WARN WindowExec: No Partition Defined for Window operation! Moving all data to a single partition, this can cause serious performance degradation.\n",
      "24/01/09 00:54:16 WARN WindowExec: No Partition Defined for Window operation! Moving all data to a single partition, this can cause serious performance degradation.\n",
      "                                                                                \r"
     ]
    }
   ],
   "source": [
    "dim_equipment.write.format(\"jdbc\")\\\n",
    "        .option(\"url\",config['DST_DB_URL'])\\\n",
    "        .option(\"driver\", \"com.mysql.jdbc.Driver\")\\\n",
    "        .option(\"dbtable\", \"dim_equipment\")\\\n",
    "        .option(\"user\", config['DST_DB_USER'])\\\n",
    "        .option(\"password\", config['DST_DB_PASSWORD'])\\\n",
    "        .save()"
   ]
  }
 ],
 "metadata": {
  "kernelspec": {
   "display_name": "venvPySpark",
   "language": "python",
   "name": "python3"
  },
  "language_info": {
   "codemirror_mode": {
    "name": "ipython",
    "version": 3
   },
   "file_extension": ".py",
   "mimetype": "text/x-python",
   "name": "python",
   "nbconvert_exporter": "python",
   "pygments_lexer": "ipython3",
   "version": "3.10.12"
  },
  "orig_nbformat": 4
 },
 "nbformat": 4,
 "nbformat_minor": 2
}
