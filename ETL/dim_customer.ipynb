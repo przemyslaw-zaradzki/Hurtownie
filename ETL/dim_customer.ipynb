{
 "cells": [
  {
   "cell_type": "code",
   "execution_count": 1,
   "metadata": {},
   "outputs": [],
   "source": [
    "import json"
   ]
  },
  {
   "cell_type": "code",
   "execution_count": 2,
   "metadata": {},
   "outputs": [],
   "source": [
    "from pyspark.sql import SparkSession"
   ]
  },
  {
   "cell_type": "code",
   "execution_count": 10,
   "metadata": {},
   "outputs": [],
   "source": [
    "config = json.load(open(\"config.json\"))"
   ]
  },
  {
   "cell_type": "code",
   "execution_count": 4,
   "metadata": {},
   "outputs": [
    {
     "name": "stderr",
     "output_type": "stream",
     "text": [
      "24/01/09 00:45:14 WARN Utils: Your hostname, przemyslaw-Latitude-E7450 resolves to a loopback address: 127.0.1.1; using 192.168.1.110 instead (on interface wlp2s0)\n",
      "24/01/09 00:45:14 WARN Utils: Set SPARK_LOCAL_IP if you need to bind to another address\n",
      "24/01/09 00:45:14 WARN NativeCodeLoader: Unable to load native-hadoop library for your platform... using builtin-java classes where applicable\n",
      "Setting default log level to \"WARN\".\n",
      "To adjust logging level use sc.setLogLevel(newLevel). For SparkR, use setLogLevel(newLevel).\n",
      "24/01/09 00:45:17 WARN Utils: Service 'SparkUI' could not bind on port 4040. Attempting port 4041.\n",
      "24/01/09 00:45:17 WARN Utils: Service 'SparkUI' could not bind on port 4041. Attempting port 4042.\n"
     ]
    }
   ],
   "source": [
    "spark = SparkSession.builder\\\n",
    "    .config(\"spark.jars\", config['JDBC_PATH']) \\\n",
    "    .config(\"spark.executor.extraClassPath\", config['JDBC_PATH'])\\\n",
    "    .getOrCreate()"
   ]
  },
  {
   "cell_type": "code",
   "execution_count": 5,
   "metadata": {},
   "outputs": [],
   "source": [
    "dbtable = \"customer\""
   ]
  },
  {
   "cell_type": "code",
   "execution_count": 15,
   "metadata": {},
   "outputs": [],
   "source": [
    "df_customer = spark.read.format(\"jdbc\")\\\n",
    "        .option(\"url\",config['SRC_DB_URL'])\\\n",
    "        .option(\"driver\", \"com.mysql.jdbc.Driver\")\\\n",
    "        .option(\"dbtable\", dbtable)\\\n",
    "        .option(\"user\", config['SRC_DB_USER'])\\\n",
    "        .option(\"password\", config['SRC_DB_PASSWORD'])\\\n",
    "        .load()"
   ]
  },
  {
   "cell_type": "code",
   "execution_count": 16,
   "metadata": {},
   "outputs": [],
   "source": [
    "df_customer.createOrReplaceTempView(dbtable)"
   ]
  },
  {
   "cell_type": "code",
   "execution_count": 17,
   "metadata": {},
   "outputs": [],
   "source": [
    "dbtable = \"address\""
   ]
  },
  {
   "cell_type": "code",
   "execution_count": 18,
   "metadata": {},
   "outputs": [],
   "source": [
    "df_address = spark.read.format(\"jdbc\")\\\n",
    "        .option(\"url\",config['SRC_DB_URL'])\\\n",
    "        .option(\"driver\", \"com.mysql.jdbc.Driver\")\\\n",
    "        .option(\"dbtable\", dbtable)\\\n",
    "        .option(\"user\", config['SRC_DB_USER'])\\\n",
    "        .option(\"password\", config['SRC_DB_PASSWORD'])\\\n",
    "        .load()"
   ]
  },
  {
   "cell_type": "code",
   "execution_count": 19,
   "metadata": {},
   "outputs": [],
   "source": [
    "df_address.createOrReplaceTempView(dbtable)"
   ]
  },
  {
   "cell_type": "code",
   "execution_count": 20,
   "metadata": {},
   "outputs": [],
   "source": [
    "dbtable = \"city\""
   ]
  },
  {
   "cell_type": "code",
   "execution_count": 21,
   "metadata": {},
   "outputs": [],
   "source": [
    "df_city = spark.read.format(\"jdbc\")\\\n",
    "        .option(\"url\",config['SRC_DB_URL'])\\\n",
    "        .option(\"driver\", \"com.mysql.jdbc.Driver\")\\\n",
    "        .option(\"dbtable\", dbtable)\\\n",
    "        .option(\"user\", config['SRC_DB_USER'])\\\n",
    "        .option(\"password\", config['SRC_DB_PASSWORD'])\\\n",
    "        .load()"
   ]
  },
  {
   "cell_type": "code",
   "execution_count": 22,
   "metadata": {},
   "outputs": [],
   "source": [
    "df_city.createOrReplaceTempView(dbtable)"
   ]
  },
  {
   "cell_type": "code",
   "execution_count": 23,
   "metadata": {},
   "outputs": [],
   "source": [
    "dbtable = \"country\""
   ]
  },
  {
   "cell_type": "code",
   "execution_count": 24,
   "metadata": {},
   "outputs": [],
   "source": [
    "df_country = spark.read.format(\"jdbc\")\\\n",
    "        .option(\"url\",config['SRC_DB_URL'])\\\n",
    "        .option(\"driver\", \"com.mysql.jdbc.Driver\")\\\n",
    "        .option(\"dbtable\", dbtable)\\\n",
    "        .option(\"user\", config['SRC_DB_USER'])\\\n",
    "        .option(\"password\", config['SRC_DB_PASSWORD'])\\\n",
    "        .load()"
   ]
  },
  {
   "cell_type": "code",
   "execution_count": 25,
   "metadata": {},
   "outputs": [],
   "source": [
    "df_country.createOrReplaceTempView(dbtable)"
   ]
  },
  {
   "cell_type": "code",
   "execution_count": 26,
   "metadata": {},
   "outputs": [],
   "source": [
    "dim_customer = spark.sql(\"\"\"\n",
    "SELECT\n",
    "ROW_NUMBER() OVER(ORDER BY c.customer_id) AS customer_id,\n",
    "c.customer_id AS customer_key,\n",
    "CONCAT(c.first_name, \" \", c.last_name) AS customer_name,\n",
    "c.email AS customer_email,\n",
    "c.birth_date AS customer_birth_date,\n",
    "a.address AS customer_address,\n",
    "a.postal_code AS customer_postal_code,\n",
    "ci.city AS customer_city,\n",
    "co.country AS customer_country\n",
    "FROM customer AS c\n",
    "JOIN address AS a ON c.address_id = a.address_id\n",
    "JOIN city AS ci ON a.city_id = ci.city_id\n",
    "JOIN country co ON ci.country_id = co.country_id \n",
    "\"\"\")"
   ]
  },
  {
   "cell_type": "code",
   "execution_count": 27,
   "metadata": {},
   "outputs": [
    {
     "name": "stderr",
     "output_type": "stream",
     "text": [
      "24/01/09 00:49:49 WARN WindowExec: No Partition Defined for Window operation! Moving all data to a single partition, this can cause serious performance degradation.\n",
      "24/01/09 00:49:49 WARN WindowExec: No Partition Defined for Window operation! Moving all data to a single partition, this can cause serious performance degradation.\n",
      "24/01/09 00:49:49 WARN WindowExec: No Partition Defined for Window operation! Moving all data to a single partition, this can cause serious performance degradation.\n",
      "24/01/09 00:49:52 WARN WindowExec: No Partition Defined for Window operation! Moving all data to a single partition, this can cause serious performance degradation.\n",
      "24/01/09 00:49:52 WARN WindowExec: No Partition Defined for Window operation! Moving all data to a single partition, this can cause serious performance degradation.\n",
      "24/01/09 00:49:52 WARN WindowExec: No Partition Defined for Window operation! Moving all data to a single partition, this can cause serious performance degradation.\n",
      "24/01/09 00:49:52 WARN WindowExec: No Partition Defined for Window operation! Moving all data to a single partition, this can cause serious performance degradation.\n",
      "24/01/09 00:49:53 WARN WindowExec: No Partition Defined for Window operation! Moving all data to a single partition, this can cause serious performance degradation.\n",
      "24/01/09 00:49:53 WARN WindowExec: No Partition Defined for Window operation! Moving all data to a single partition, this can cause serious performance degradation.\n",
      "24/01/09 00:49:54 WARN WindowExec: No Partition Defined for Window operation! Moving all data to a single partition, this can cause serious performance degradation.\n",
      "24/01/09 00:49:54 WARN WindowExec: No Partition Defined for Window operation! Moving all data to a single partition, this can cause serious performance degradation.\n",
      "24/01/09 00:49:55 WARN WindowExec: No Partition Defined for Window operation! Moving all data to a single partition, this can cause serious performance degradation.\n",
      "24/01/09 00:49:55 WARN WindowExec: No Partition Defined for Window operation! Moving all data to a single partition, this can cause serious performance degradation.\n",
      "24/01/09 00:49:55 WARN WindowExec: No Partition Defined for Window operation! Moving all data to a single partition, this can cause serious performance degradation.\n",
      "24/01/09 00:49:55 WARN WindowExec: No Partition Defined for Window operation! Moving all data to a single partition, this can cause serious performance degradation.\n",
      "24/01/09 00:49:56 WARN WindowExec: No Partition Defined for Window operation! Moving all data to a single partition, this can cause serious performance degradation.\n",
      "24/01/09 00:49:56 WARN WindowExec: No Partition Defined for Window operation! Moving all data to a single partition, this can cause serious performance degradation.\n",
      "24/01/09 00:49:56 WARN WindowExec: No Partition Defined for Window operation! Moving all data to a single partition, this can cause serious performance degradation.\n",
      "                                                                                \r"
     ]
    },
    {
     "name": "stdout",
     "output_type": "stream",
     "text": [
      "+-----------+------------+--------------------+--------------------+-------------------+--------------------+--------------------+----------------+----------------+\n",
      "|customer_id|customer_key|       customer_name|      customer_email|customer_birth_date|    customer_address|customer_postal_code|   customer_city|customer_country|\n",
      "+-----------+------------+--------------------+--------------------+-------------------+--------------------+--------------------+----------------+----------------+\n",
      "|          1|          25|  Przemysław Drobnik|przemyslaw.drobni...|         1972-11-11|       Kosynierów 03|              71-304|           Konin|          Poland|\n",
      "|          2|          32|    Zdenka Svobodová|zdenka.svobodova@...|         1964-08-20|  Viale Ruggiero 729|               15074|         Fiastra|           Italy|\n",
      "|          3|          33|Thibaut-Denis Lec...|thibaut-denis.lec...|         1974-05-06|   Pyörökiventie 497|               14507|   Uusikaarlepyy|         Finland|\n",
      "|          4|          57|isabelle delattre...|isabelle.delattre...|         1975-08-24|          Olivová 46|              863 62|        Šivetice|        Slovakia|\n",
      "|          5|          87|       Marta Němcová|marta.nemcova@and...|         1976-07-16|Andreas-Textor-Pl...|               77362|        Kötzting|         Germany|\n",
      "|          6|         113|           jan szyda|jan.szyda@niirane...|         1996-01-20|    Piazza Greca 924|               45035|       Calizzano|           Italy|\n",
      "|          7|         131|Elisabet Navas Co...|elisabet.navas co...|         1976-07-03|Nyíregyházai út 172.|              H-8946| felsőfürdőváros|         Hungary|\n",
      "|          8|         146|      Elsa Magnusson|elsa.magnusson@ko...|         1980-11-11|Philippe-Hoffmann...|               19564|     Neustrelitz|         Germany|\n",
      "|          9|         180|Univ.Prof. Damari...|univ.prof..damari...|         1994-01-12|  Incrocio Sandro 75|               98135|         Maciano|           Italy|\n",
      "|         10|         188|  Iona Francis-Foley|francis-foley@and...|         1968-02-19|  Hátfalui utca 106.|              H-3506| tapolcaharaszti|         Hungary|\n",
      "|         11|         190| Hannu Nikula-Jäntti|hannu.nikula-jant...|         1959-03-02|  Rotonda Annetta 68|               63031|     Bentivoglio|           Italy|\n",
      "|         12|         235| Mr. Mitchell Cullen|mr..mitchell cull...|         1964-01-16|          Miłosza 23|              65-264|          Głogów|          Poland|\n",
      "|         13|         237|  Catherine Vaillant|catherine.vaillan...|         1993-04-06|   Orapihlajakatu 59|               00178|          Liperi|         Finland|\n",
      "|         14|         241|   François Guichard|guiguichard@morys...|         1984-10-29|        Spinozova 73|              486 86|          Cvikov|  Czech Republic|\n",
      "|         15|         278|    Susanna Pennanen|susanna.pennanen@...|         1954-08-08|    Slamon Street 80|            N33 RNEA|Julie-Anne Ville|         Ireland|\n",
      "|         16|         280|Cortney McClellan...|cortney.mcclellan...|         1986-12-15|     Widhalmplatz 75|                2332|Gmünd in Kärnten|         Austria|\n",
      "|         17|         347|Victor Pardo Coro...|victor.pardo coro...|         1981-04-18|        Orkana 72/06|              57-657|          Puławy|          Poland|\n",
      "|         18|         413|      Martin Moravec|martin.moravec@ma...|         1968-10-29|  Marrinan Street 52|            H13 2523|Antoinette Ville|         Ireland|\n",
      "|         19|         509|         Mark Morgan|mark.morgan@mulha...|         1992-07-13|   Tangney Street 95|             E84RYK0|   Johanna Ville|         Ireland|\n",
      "|         20|         526|     Cormac Calligan|calcalligan@johan...|         1969-06-21|       Isaksenvika 8|                5426|           Lunde|          Norway|\n",
      "+-----------+------------+--------------------+--------------------+-------------------+--------------------+--------------------+----------------+----------------+\n",
      "only showing top 20 rows\n",
      "\n"
     ]
    }
   ],
   "source": [
    "dim_customer.show()"
   ]
  },
  {
   "cell_type": "code",
   "execution_count": 28,
   "metadata": {},
   "outputs": [
    {
     "name": "stderr",
     "output_type": "stream",
     "text": [
      "24/01/09 00:51:06 WARN WindowExec: No Partition Defined for Window operation! Moving all data to a single partition, this can cause serious performance degradation.\n",
      "24/01/09 00:51:06 WARN WindowExec: No Partition Defined for Window operation! Moving all data to a single partition, this can cause serious performance degradation.\n",
      "24/01/09 00:51:06 WARN WindowExec: No Partition Defined for Window operation! Moving all data to a single partition, this can cause serious performance degradation.\n",
      "24/01/09 00:51:07 WARN WindowExec: No Partition Defined for Window operation! Moving all data to a single partition, this can cause serious performance degradation.\n",
      "24/01/09 00:51:07 WARN WindowExec: No Partition Defined for Window operation! Moving all data to a single partition, this can cause serious performance degradation.\n",
      "24/01/09 00:51:07 WARN WindowExec: No Partition Defined for Window operation! Moving all data to a single partition, this can cause serious performance degradation.\n",
      "24/01/09 00:51:07 WARN WindowExec: No Partition Defined for Window operation! Moving all data to a single partition, this can cause serious performance degradation.\n",
      "24/01/09 00:51:08 WARN WindowExec: No Partition Defined for Window operation! Moving all data to a single partition, this can cause serious performance degradation.\n",
      "24/01/09 00:51:08 WARN WindowExec: No Partition Defined for Window operation! Moving all data to a single partition, this can cause serious performance degradation.\n",
      "24/01/09 00:51:09 WARN WindowExec: No Partition Defined for Window operation! Moving all data to a single partition, this can cause serious performance degradation.\n",
      "24/01/09 00:51:09 WARN WindowExec: No Partition Defined for Window operation! Moving all data to a single partition, this can cause serious performance degradation.\n",
      "24/01/09 00:51:10 WARN WindowExec: No Partition Defined for Window operation! Moving all data to a single partition, this can cause serious performance degradation.\n",
      "24/01/09 00:51:10 WARN WindowExec: No Partition Defined for Window operation! Moving all data to a single partition, this can cause serious performance degradation.\n",
      "24/01/09 00:51:10 WARN WindowExec: No Partition Defined for Window operation! Moving all data to a single partition, this can cause serious performance degradation.\n",
      "24/01/09 00:51:10 WARN WindowExec: No Partition Defined for Window operation! Moving all data to a single partition, this can cause serious performance degradation.\n",
      "24/01/09 00:51:10 WARN WindowExec: No Partition Defined for Window operation! Moving all data to a single partition, this can cause serious performance degradation.\n",
      "24/01/09 00:51:10 WARN WindowExec: No Partition Defined for Window operation! Moving all data to a single partition, this can cause serious performance degradation.\n",
      "24/01/09 00:51:11 WARN WindowExec: No Partition Defined for Window operation! Moving all data to a single partition, this can cause serious performance degradation.\n",
      "24/01/09 00:51:11 WARN WindowExec: No Partition Defined for Window operation! Moving all data to a single partition, this can cause serious performance degradation.\n",
      "                                                                                \r"
     ]
    }
   ],
   "source": [
    "dim_customer.write.format(\"jdbc\")\\\n",
    "        .option(\"url\",config['DST_DB_URL'])\\\n",
    "        .option(\"driver\", \"com.mysql.jdbc.Driver\")\\\n",
    "        .option(\"dbtable\", \"dim_customer\")\\\n",
    "        .option(\"user\", config['DST_DB_USER'])\\\n",
    "        .option(\"password\", config['DST_DB_PASSWORD'])\\\n",
    "        .save()"
   ]
  }
 ],
 "metadata": {
  "kernelspec": {
   "display_name": "venvPySpark",
   "language": "python",
   "name": "python3"
  },
  "language_info": {
   "codemirror_mode": {
    "name": "ipython",
    "version": 3
   },
   "file_extension": ".py",
   "mimetype": "text/x-python",
   "name": "python",
   "nbconvert_exporter": "python",
   "pygments_lexer": "ipython3",
   "version": "3.10.12"
  },
  "orig_nbformat": 4
 },
 "nbformat": 4,
 "nbformat_minor": 2
}
