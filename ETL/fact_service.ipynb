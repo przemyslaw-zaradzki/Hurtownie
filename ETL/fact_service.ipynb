{
 "cells": [
  {
   "cell_type": "code",
   "execution_count": 1,
   "metadata": {},
   "outputs": [],
   "source": [
    "import json"
   ]
  },
  {
   "cell_type": "code",
   "execution_count": 2,
   "metadata": {},
   "outputs": [],
   "source": [
    "from pyspark.sql import SparkSession"
   ]
  },
  {
   "cell_type": "code",
   "execution_count": 3,
   "metadata": {},
   "outputs": [],
   "source": [
    "config = json.load(open(\"config.json\"))"
   ]
  },
  {
   "cell_type": "code",
   "execution_count": 4,
   "metadata": {},
   "outputs": [
    {
     "name": "stderr",
     "output_type": "stream",
     "text": [
      "24/01/09 01:10:58 WARN Utils: Your hostname, przemyslaw-Latitude-E7450 resolves to a loopback address: 127.0.1.1; using 192.168.1.110 instead (on interface wlp2s0)\n",
      "24/01/09 01:10:58 WARN Utils: Set SPARK_LOCAL_IP if you need to bind to another address\n",
      "24/01/09 01:10:59 WARN NativeCodeLoader: Unable to load native-hadoop library for your platform... using builtin-java classes where applicable\n",
      "Setting default log level to \"WARN\".\n",
      "To adjust logging level use sc.setLogLevel(newLevel). For SparkR, use setLogLevel(newLevel).\n",
      "24/01/09 01:11:01 WARN Utils: Service 'SparkUI' could not bind on port 4040. Attempting port 4041.\n",
      "24/01/09 01:11:01 WARN Utils: Service 'SparkUI' could not bind on port 4041. Attempting port 4042.\n",
      "24/01/09 01:11:01 WARN Utils: Service 'SparkUI' could not bind on port 4042. Attempting port 4043.\n",
      "24/01/09 01:11:01 WARN Utils: Service 'SparkUI' could not bind on port 4043. Attempting port 4044.\n"
     ]
    }
   ],
   "source": [
    "spark = SparkSession.builder\\\n",
    "    .config(\"spark.jars\", config['JDBC_PATH']) \\\n",
    "    .config(\"spark.executor.extraClassPath\", config['JDBC_PATH'])\\\n",
    "    .getOrCreate()"
   ]
  },
  {
   "cell_type": "code",
   "execution_count": 5,
   "metadata": {},
   "outputs": [],
   "source": [
    "dbtable = \"service\""
   ]
  },
  {
   "cell_type": "code",
   "execution_count": 6,
   "metadata": {},
   "outputs": [
    {
     "name": "stderr",
     "output_type": "stream",
     "text": [
      "Loading class `com.mysql.jdbc.Driver'. This is deprecated. The new driver class is `com.mysql.cj.jdbc.Driver'. The driver is automatically registered via the SPI and manual loading of the driver class is generally unnecessary.\n"
     ]
    }
   ],
   "source": [
    "df_service = spark.read.format(\"jdbc\")\\\n",
    "        .option(\"url\",config['SRC_DB_URL'])\\\n",
    "        .option(\"driver\", \"com.mysql.jdbc.Driver\")\\\n",
    "        .option(\"dbtable\", dbtable)\\\n",
    "        .option(\"user\", config['SRC_DB_USER'])\\\n",
    "        .option(\"password\", config['SRC_DB_PASSWORD'])\\\n",
    "        .load()"
   ]
  },
  {
   "cell_type": "code",
   "execution_count": 7,
   "metadata": {},
   "outputs": [],
   "source": [
    "df_service.createOrReplaceTempView(dbtable)"
   ]
  },
  {
   "cell_type": "code",
   "execution_count": 8,
   "metadata": {},
   "outputs": [
    {
     "name": "stderr",
     "output_type": "stream",
     "text": [
      "                                                                                \r"
     ]
    },
    {
     "name": "stdout",
     "output_type": "stream",
     "text": [
      "+----------+------------+------------+------------+------------+\n",
      "|service_id|inventory_id|service_type|service_date|service_cost|\n",
      "+----------+------------+------------+------------+------------+\n",
      "|         1|           1| tire change|  2016-03-01|    157.5000|\n",
      "|         2|           1| oil service|  2016-03-01|    105.0000|\n",
      "|         3|           2| tire change|  2016-03-01|    157.5000|\n",
      "|         4|           2| oil service|  2016-03-01|    105.0000|\n",
      "|         5|           3| tire change|  2016-03-01|    157.5000|\n",
      "|         6|           3| oil service|  2016-03-01|    157.5000|\n",
      "|         7|           4| tire change|  2016-03-01|    157.5000|\n",
      "|         8|           4| oil service|  2016-03-01|    105.0000|\n",
      "|         9|           5| tire change|  2016-03-01|    157.5000|\n",
      "|        10|           5| oil service|  2016-03-01|    210.0000|\n",
      "|        11|           6| tire change|  2016-03-01|    157.5000|\n",
      "|        12|           6| oil service|  2016-03-01|    157.5000|\n",
      "|        13|           8| tire change|  2016-03-01|    157.5000|\n",
      "|        14|           8| oil service|  2016-03-01|    157.5000|\n",
      "|        15|           9| tire change|  2016-03-01|    157.5000|\n",
      "|        16|           9| oil service|  2016-03-01|    157.5000|\n",
      "|        17|          11| tire change|  2016-03-01|    157.5000|\n",
      "|        18|          11| oil service|  2016-03-01|    210.0000|\n",
      "|        19|          12| tire change|  2016-03-01|    157.5000|\n",
      "|        20|          12| oil service|  2016-03-01|    210.0000|\n",
      "+----------+------------+------------+------------+------------+\n",
      "only showing top 20 rows\n",
      "\n"
     ]
    }
   ],
   "source": [
    "df_service.show()"
   ]
  },
  {
   "cell_type": "code",
   "execution_count": 10,
   "metadata": {},
   "outputs": [],
   "source": [
    "dbtable = \"dim_inventory\""
   ]
  },
  {
   "cell_type": "code",
   "execution_count": 11,
   "metadata": {},
   "outputs": [],
   "source": [
    "df_dim_inventory = spark.read.format(\"jdbc\")\\\n",
    "        .option(\"url\",config['DST_DB_URL'])\\\n",
    "        .option(\"driver\", \"com.mysql.jdbc.Driver\")\\\n",
    "        .option(\"dbtable\", dbtable)\\\n",
    "        .option(\"user\", config['DST_DB_USER'])\\\n",
    "        .option(\"password\", config['DST_DB_PASSWORD'])\\\n",
    "        .load()"
   ]
  },
  {
   "cell_type": "code",
   "execution_count": 12,
   "metadata": {},
   "outputs": [],
   "source": [
    "df_dim_inventory.createOrReplaceTempView(dbtable)"
   ]
  },
  {
   "cell_type": "code",
   "execution_count": 13,
   "metadata": {},
   "outputs": [],
   "source": [
    "dbtable = \"dim_calendar\""
   ]
  },
  {
   "cell_type": "code",
   "execution_count": 14,
   "metadata": {},
   "outputs": [],
   "source": [
    "df_dim_calendar = spark.read.format(\"jdbc\")\\\n",
    "        .option(\"url\",config['DST_DB_URL'])\\\n",
    "        .option(\"driver\", \"com.mysql.jdbc.Driver\")\\\n",
    "        .option(\"dbtable\", dbtable)\\\n",
    "        .option(\"user\", config['DST_DB_USER'])\\\n",
    "        .option(\"password\", config['DST_DB_PASSWORD'])\\\n",
    "        .load()"
   ]
  },
  {
   "cell_type": "code",
   "execution_count": 15,
   "metadata": {},
   "outputs": [],
   "source": [
    "df_dim_calendar.createOrReplaceTempView(dbtable)"
   ]
  },
  {
   "cell_type": "code",
   "execution_count": 16,
   "metadata": {},
   "outputs": [],
   "source": [
    "fact_service = spark.sql(\"\"\"\n",
    "SELECT\n",
    "ROW_NUMBER() OVER(ORDER BY s.service_id) AS service_id,\n",
    "i.inventory_id AS service_inventory_id,\n",
    "c.calendar_id AS service_date_id,\n",
    "s.service_id AS service_key,\n",
    "s.service_type AS service_type,\n",
    "s.service_cost AS service_cost\n",
    "FROM service AS s\n",
    "JOIN dim_inventory AS i ON s.inventory_id = i.inventory_key\n",
    "JOIN dim_calendar AS c ON s.service_date = c.calendar_full_date\n",
    "\"\"\")"
   ]
  },
  {
   "cell_type": "code",
   "execution_count": 17,
   "metadata": {},
   "outputs": [
    {
     "name": "stderr",
     "output_type": "stream",
     "text": [
      "24/01/09 01:12:14 WARN WindowExec: No Partition Defined for Window operation! Moving all data to a single partition, this can cause serious performance degradation.\n",
      "24/01/09 01:12:15 WARN WindowExec: No Partition Defined for Window operation! Moving all data to a single partition, this can cause serious performance degradation.\n",
      "24/01/09 01:12:15 WARN WindowExec: No Partition Defined for Window operation! Moving all data to a single partition, this can cause serious performance degradation.\n",
      "24/01/09 01:12:17 WARN WindowExec: No Partition Defined for Window operation! Moving all data to a single partition, this can cause serious performance degradation.\n",
      "24/01/09 01:12:17 WARN WindowExec: No Partition Defined for Window operation! Moving all data to a single partition, this can cause serious performance degradation.\n",
      "24/01/09 01:12:17 WARN WindowExec: No Partition Defined for Window operation! Moving all data to a single partition, this can cause serious performance degradation.\n",
      "24/01/09 01:12:17 WARN WindowExec: No Partition Defined for Window operation! Moving all data to a single partition, this can cause serious performance degradation.\n",
      "24/01/09 01:12:17 WARN WindowExec: No Partition Defined for Window operation! Moving all data to a single partition, this can cause serious performance degradation.\n",
      "24/01/09 01:12:17 WARN WindowExec: No Partition Defined for Window operation! Moving all data to a single partition, this can cause serious performance degradation.\n",
      "24/01/09 01:12:17 WARN WindowExec: No Partition Defined for Window operation! Moving all data to a single partition, this can cause serious performance degradation.\n",
      "24/01/09 01:12:17 WARN WindowExec: No Partition Defined for Window operation! Moving all data to a single partition, this can cause serious performance degradation.\n",
      "24/01/09 01:12:17 WARN WindowExec: No Partition Defined for Window operation! Moving all data to a single partition, this can cause serious performance degradation.\n",
      "24/01/09 01:12:17 WARN WindowExec: No Partition Defined for Window operation! Moving all data to a single partition, this can cause serious performance degradation.\n",
      "                                                                                \r"
     ]
    },
    {
     "name": "stdout",
     "output_type": "stream",
     "text": [
      "+----------+--------------------+---------------+-----------+------------+------------+\n",
      "|service_id|service_inventory_id|service_date_id|service_key|service_type|service_cost|\n",
      "+----------+--------------------+---------------+-----------+------------+------------+\n",
      "|         1|                   1|             61|          1| tire change|    157.5000|\n",
      "|         2|                   1|             61|          2| oil service|    105.0000|\n",
      "|         3|                   2|             61|          3| tire change|    157.5000|\n",
      "|         4|                   2|             61|          4| oil service|    105.0000|\n",
      "|         5|                   3|             61|          5| tire change|    157.5000|\n",
      "|         6|                   3|             61|          6| oil service|    157.5000|\n",
      "|         7|                   4|             61|          7| tire change|    157.5000|\n",
      "|         8|                   4|             61|          8| oil service|    105.0000|\n",
      "|         9|                   5|             61|          9| tire change|    157.5000|\n",
      "|        10|                   5|             61|         10| oil service|    210.0000|\n",
      "|        11|                   6|             61|         11| tire change|    157.5000|\n",
      "|        12|                   6|             61|         12| oil service|    157.5000|\n",
      "|        13|                   8|             61|         13| tire change|    157.5000|\n",
      "|        14|                   8|             61|         14| oil service|    157.5000|\n",
      "|        15|                   9|             61|         15| tire change|    157.5000|\n",
      "|        16|                   9|             61|         16| oil service|    157.5000|\n",
      "|        17|                  11|             61|         17| tire change|    157.5000|\n",
      "|        18|                  11|             61|         18| oil service|    210.0000|\n",
      "|        19|                  12|             61|         19| tire change|    157.5000|\n",
      "|        20|                  12|             61|         20| oil service|    210.0000|\n",
      "+----------+--------------------+---------------+-----------+------------+------------+\n",
      "only showing top 20 rows\n",
      "\n"
     ]
    }
   ],
   "source": [
    "fact_service.show()"
   ]
  },
  {
   "cell_type": "code",
   "execution_count": 18,
   "metadata": {},
   "outputs": [],
   "source": [
    "fact_service.createOrReplaceTempView(\"fact_service\")"
   ]
  },
  {
   "cell_type": "code",
   "execution_count": 19,
   "metadata": {},
   "outputs": [
    {
     "ename": "ParseException",
     "evalue": "\n[PARSE_SYNTAX_ERROR] Syntax error at or near 'PRIMARY'.(line 2, pos 29)\n\n== SQL ==\n\nALTER TABLE fact_service ADD PRIMARY KEY (service_id)\n-----------------------------^^^\nALTER TABLE dim_inventory ADD PRIMARY KEY (inventory_id)\n\nALTER TABLE fact_service\nADD CONSTRAINT fact_service_FK\nFOREIGN KEY (service_inventory_id) REFERENCES dim_inventory (inventory_id) \n",
     "output_type": "error",
     "traceback": [
      "\u001b[0;31m---------------------------------------------------------------------------\u001b[0m",
      "\u001b[0;31mParseException\u001b[0m                            Traceback (most recent call last)",
      "Cell \u001b[0;32mIn[19], line 1\u001b[0m\n\u001b[0;32m----> 1\u001b[0m spark\u001b[39m.\u001b[39;49msql(\u001b[39m\"\"\"\u001b[39;49m\n\u001b[1;32m      2\u001b[0m \u001b[39mALTER TABLE fact_service ADD PRIMARY KEY (service_id)\u001b[39;49m\n\u001b[1;32m      3\u001b[0m \u001b[39mALTER TABLE dim_inventory ADD PRIMARY KEY (inventory_id)\u001b[39;49m\n\u001b[1;32m      4\u001b[0m \n\u001b[1;32m      5\u001b[0m \u001b[39mALTER TABLE fact_service\u001b[39;49m\n\u001b[1;32m      6\u001b[0m \u001b[39mADD CONSTRAINT fact_service_FK\u001b[39;49m\n\u001b[1;32m      7\u001b[0m \u001b[39mFOREIGN KEY (service_inventory_id) REFERENCES dim_inventory (inventory_id) \u001b[39;49m\n\u001b[1;32m      8\u001b[0m \u001b[39m\"\"\"\u001b[39;49m)\n",
      "File \u001b[0;32m~/dev/Spark/venvPySpark/lib/python3.10/site-packages/pyspark/sql/session.py:1631\u001b[0m, in \u001b[0;36mSparkSession.sql\u001b[0;34m(self, sqlQuery, args, **kwargs)\u001b[0m\n\u001b[1;32m   1627\u001b[0m         \u001b[39massert\u001b[39;00m \u001b[39mself\u001b[39m\u001b[39m.\u001b[39m_jvm \u001b[39mis\u001b[39;00m \u001b[39mnot\u001b[39;00m \u001b[39mNone\u001b[39;00m\n\u001b[1;32m   1628\u001b[0m         litArgs \u001b[39m=\u001b[39m \u001b[39mself\u001b[39m\u001b[39m.\u001b[39m_jvm\u001b[39m.\u001b[39mPythonUtils\u001b[39m.\u001b[39mtoArray(\n\u001b[1;32m   1629\u001b[0m             [_to_java_column(lit(v)) \u001b[39mfor\u001b[39;00m v \u001b[39min\u001b[39;00m (args \u001b[39mor\u001b[39;00m [])]\n\u001b[1;32m   1630\u001b[0m         )\n\u001b[0;32m-> 1631\u001b[0m     \u001b[39mreturn\u001b[39;00m DataFrame(\u001b[39mself\u001b[39;49m\u001b[39m.\u001b[39;49m_jsparkSession\u001b[39m.\u001b[39;49msql(sqlQuery, litArgs), \u001b[39mself\u001b[39m)\n\u001b[1;32m   1632\u001b[0m \u001b[39mfinally\u001b[39;00m:\n\u001b[1;32m   1633\u001b[0m     \u001b[39mif\u001b[39;00m \u001b[39mlen\u001b[39m(kwargs) \u001b[39m>\u001b[39m \u001b[39m0\u001b[39m:\n",
      "File \u001b[0;32m~/dev/Spark/venvPySpark/lib/python3.10/site-packages/py4j/java_gateway.py:1322\u001b[0m, in \u001b[0;36mJavaMember.__call__\u001b[0;34m(self, *args)\u001b[0m\n\u001b[1;32m   1316\u001b[0m command \u001b[39m=\u001b[39m proto\u001b[39m.\u001b[39mCALL_COMMAND_NAME \u001b[39m+\u001b[39m\\\n\u001b[1;32m   1317\u001b[0m     \u001b[39mself\u001b[39m\u001b[39m.\u001b[39mcommand_header \u001b[39m+\u001b[39m\\\n\u001b[1;32m   1318\u001b[0m     args_command \u001b[39m+\u001b[39m\\\n\u001b[1;32m   1319\u001b[0m     proto\u001b[39m.\u001b[39mEND_COMMAND_PART\n\u001b[1;32m   1321\u001b[0m answer \u001b[39m=\u001b[39m \u001b[39mself\u001b[39m\u001b[39m.\u001b[39mgateway_client\u001b[39m.\u001b[39msend_command(command)\n\u001b[0;32m-> 1322\u001b[0m return_value \u001b[39m=\u001b[39m get_return_value(\n\u001b[1;32m   1323\u001b[0m     answer, \u001b[39mself\u001b[39;49m\u001b[39m.\u001b[39;49mgateway_client, \u001b[39mself\u001b[39;49m\u001b[39m.\u001b[39;49mtarget_id, \u001b[39mself\u001b[39;49m\u001b[39m.\u001b[39;49mname)\n\u001b[1;32m   1325\u001b[0m \u001b[39mfor\u001b[39;00m temp_arg \u001b[39min\u001b[39;00m temp_args:\n\u001b[1;32m   1326\u001b[0m     \u001b[39mif\u001b[39;00m \u001b[39mhasattr\u001b[39m(temp_arg, \u001b[39m\"\u001b[39m\u001b[39m_detach\u001b[39m\u001b[39m\"\u001b[39m):\n",
      "File \u001b[0;32m~/dev/Spark/venvPySpark/lib/python3.10/site-packages/pyspark/errors/exceptions/captured.py:185\u001b[0m, in \u001b[0;36mcapture_sql_exception.<locals>.deco\u001b[0;34m(*a, **kw)\u001b[0m\n\u001b[1;32m    181\u001b[0m converted \u001b[39m=\u001b[39m convert_exception(e\u001b[39m.\u001b[39mjava_exception)\n\u001b[1;32m    182\u001b[0m \u001b[39mif\u001b[39;00m \u001b[39mnot\u001b[39;00m \u001b[39misinstance\u001b[39m(converted, UnknownException):\n\u001b[1;32m    183\u001b[0m     \u001b[39m# Hide where the exception came from that shows a non-Pythonic\u001b[39;00m\n\u001b[1;32m    184\u001b[0m     \u001b[39m# JVM exception message.\u001b[39;00m\n\u001b[0;32m--> 185\u001b[0m     \u001b[39mraise\u001b[39;00m converted \u001b[39mfrom\u001b[39;00m \u001b[39mNone\u001b[39;00m\n\u001b[1;32m    186\u001b[0m \u001b[39melse\u001b[39;00m:\n\u001b[1;32m    187\u001b[0m     \u001b[39mraise\u001b[39;00m\n",
      "\u001b[0;31mParseException\u001b[0m: \n[PARSE_SYNTAX_ERROR] Syntax error at or near 'PRIMARY'.(line 2, pos 29)\n\n== SQL ==\n\nALTER TABLE fact_service ADD PRIMARY KEY (service_id)\n-----------------------------^^^\nALTER TABLE dim_inventory ADD PRIMARY KEY (inventory_id)\n\nALTER TABLE fact_service\nADD CONSTRAINT fact_service_FK\nFOREIGN KEY (service_inventory_id) REFERENCES dim_inventory (inventory_id) \n"
     ]
    }
   ],
   "source": [
    "spark.sql(\"\"\"\n",
    "ALTER TABLE fact_service ADD PRIMARY KEY (service_id)\n",
    "ALTER TABLE dim_inventory ADD PRIMARY KEY (inventory_id)\n",
    "ALTER TABLE dim_calendar ADD PRIMARY KEY (calendar_id)\n",
    "\n",
    "ALTER TABLE fact_service\n",
    "ADD CONSTRAINT fact_service_FK\n",
    "FOREIGN KEY (service_inventory_id) REFERENCES dim_inventory (inventory_id)\n",
    "          \n",
    "ALTER TABLE fact_service\n",
    "ADD CONSTRAINT fact_service_FK2\n",
    "FOREIGN KEY (service_date_id) REFERENCES dim_calendar (calendar_id) \n",
    "\"\"\")"
   ]
  },
  {
   "cell_type": "code",
   "execution_count": 19,
   "metadata": {},
   "outputs": [
    {
     "name": "stderr",
     "output_type": "stream",
     "text": [
      "24/01/09 01:13:05 WARN WindowExec: No Partition Defined for Window operation! Moving all data to a single partition, this can cause serious performance degradation.\n",
      "24/01/09 01:13:05 WARN WindowExec: No Partition Defined for Window operation! Moving all data to a single partition, this can cause serious performance degradation.\n",
      "24/01/09 01:13:05 WARN WindowExec: No Partition Defined for Window operation! Moving all data to a single partition, this can cause serious performance degradation.\n",
      "24/01/09 01:13:05 WARN WindowExec: No Partition Defined for Window operation! Moving all data to a single partition, this can cause serious performance degradation.\n",
      "24/01/09 01:13:05 WARN WindowExec: No Partition Defined for Window operation! Moving all data to a single partition, this can cause serious performance degradation.\n",
      "24/01/09 01:13:06 WARN WindowExec: No Partition Defined for Window operation! Moving all data to a single partition, this can cause serious performance degradation.\n",
      "24/01/09 01:13:06 WARN WindowExec: No Partition Defined for Window operation! Moving all data to a single partition, this can cause serious performance degradation.\n",
      "24/01/09 01:13:06 WARN WindowExec: No Partition Defined for Window operation! Moving all data to a single partition, this can cause serious performance degradation.\n",
      "24/01/09 01:13:06 WARN WindowExec: No Partition Defined for Window operation! Moving all data to a single partition, this can cause serious performance degradation.\n",
      "24/01/09 01:13:06 WARN WindowExec: No Partition Defined for Window operation! Moving all data to a single partition, this can cause serious performance degradation.\n",
      "24/01/09 01:13:06 WARN WindowExec: No Partition Defined for Window operation! Moving all data to a single partition, this can cause serious performance degradation.\n",
      "24/01/09 01:13:06 WARN WindowExec: No Partition Defined for Window operation! Moving all data to a single partition, this can cause serious performance degradation.\n",
      "24/01/09 01:13:06 WARN WindowExec: No Partition Defined for Window operation! Moving all data to a single partition, this can cause serious performance degradation.\n",
      "24/01/09 01:13:07 WARN WindowExec: No Partition Defined for Window operation! Moving all data to a single partition, this can cause serious performance degradation.\n",
      "24/01/09 01:13:07 WARN WindowExec: No Partition Defined for Window operation! Moving all data to a single partition, this can cause serious performance degradation.\n",
      "                                                                                \r"
     ]
    }
   ],
   "source": [
    "fact_service.write.format(\"jdbc\")\\\n",
    "        .option(\"url\",config['DST_DB_URL'])\\\n",
    "        .option(\"driver\", \"com.mysql.jdbc.Driver\")\\\n",
    "        .option(\"dbtable\", \"fact_service\")\\\n",
    "        .option(\"user\", config['DST_DB_USER'])\\\n",
    "        .option(\"password\", config['DST_DB_PASSWORD'])\\\n",
    "        .save()"
   ]
  }
 ],
 "metadata": {
  "kernelspec": {
   "display_name": "venvPySpark",
   "language": "python",
   "name": "python3"
  },
  "language_info": {
   "codemirror_mode": {
    "name": "ipython",
    "version": 3
   },
   "file_extension": ".py",
   "mimetype": "text/x-python",
   "name": "python",
   "nbconvert_exporter": "python",
   "pygments_lexer": "ipython3",
   "version": "3.10.12"
  },
  "orig_nbformat": 4
 },
 "nbformat": 4,
 "nbformat_minor": 2
}
