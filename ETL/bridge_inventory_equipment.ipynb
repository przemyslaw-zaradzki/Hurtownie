{
 "cells": [
  {
   "cell_type": "code",
   "execution_count": 1,
   "metadata": {},
   "outputs": [],
   "source": [
    "import json"
   ]
  },
  {
   "cell_type": "code",
   "execution_count": 2,
   "metadata": {},
   "outputs": [],
   "source": [
    "from pyspark.sql import SparkSession"
   ]
  },
  {
   "cell_type": "code",
   "execution_count": 3,
   "metadata": {},
   "outputs": [],
   "source": [
    "config = json.load(open(\"config.json\"))"
   ]
  },
  {
   "cell_type": "code",
   "execution_count": 4,
   "metadata": {},
   "outputs": [
    {
     "name": "stderr",
     "output_type": "stream",
     "text": [
      "24/01/09 01:02:59 WARN Utils: Your hostname, przemyslaw-Latitude-E7450 resolves to a loopback address: 127.0.1.1; using 192.168.1.110 instead (on interface wlp2s0)\n",
      "24/01/09 01:02:59 WARN Utils: Set SPARK_LOCAL_IP if you need to bind to another address\n",
      "24/01/09 01:03:00 WARN NativeCodeLoader: Unable to load native-hadoop library for your platform... using builtin-java classes where applicable\n",
      "Setting default log level to \"WARN\".\n",
      "To adjust logging level use sc.setLogLevel(newLevel). For SparkR, use setLogLevel(newLevel).\n",
      "24/01/09 01:03:02 WARN Utils: Service 'SparkUI' could not bind on port 4040. Attempting port 4041.\n"
     ]
    }
   ],
   "source": [
    "spark = SparkSession.builder\\\n",
    "    .config(\"spark.jars\", config['JDBC_PATH']) \\\n",
    "    .config(\"spark.executor.extraClassPath\", config['JDBC_PATH'])\\\n",
    "    .getOrCreate()"
   ]
  },
  {
   "cell_type": "code",
   "execution_count": 5,
   "metadata": {},
   "outputs": [],
   "source": [
    "dbtable = \"inventory_equipment\""
   ]
  },
  {
   "cell_type": "code",
   "execution_count": 6,
   "metadata": {},
   "outputs": [
    {
     "name": "stderr",
     "output_type": "stream",
     "text": [
      "Loading class `com.mysql.jdbc.Driver'. This is deprecated. The new driver class is `com.mysql.cj.jdbc.Driver'. The driver is automatically registered via the SPI and manual loading of the driver class is generally unnecessary.\n"
     ]
    }
   ],
   "source": [
    "df_inventory_equipment = spark.read.format(\"jdbc\")\\\n",
    "        .option(\"url\",config['SRC_DB_URL'])\\\n",
    "        .option(\"driver\", \"com.mysql.jdbc.Driver\")\\\n",
    "        .option(\"dbtable\", dbtable)\\\n",
    "        .option(\"user\", config['SRC_DB_USER'])\\\n",
    "        .option(\"password\", config['SRC_DB_PASSWORD'])\\\n",
    "        .load()"
   ]
  },
  {
   "cell_type": "code",
   "execution_count": 7,
   "metadata": {},
   "outputs": [],
   "source": [
    "df_inventory_equipment.createOrReplaceTempView(dbtable)"
   ]
  },
  {
   "cell_type": "code",
   "execution_count": 9,
   "metadata": {},
   "outputs": [],
   "source": [
    "dbtable = \"dim_equipment\""
   ]
  },
  {
   "cell_type": "code",
   "execution_count": 10,
   "metadata": {},
   "outputs": [],
   "source": [
    "df_equipment = spark.read.format(\"jdbc\")\\\n",
    "        .option(\"url\",config['DST_DB_URL'])\\\n",
    "        .option(\"driver\", \"com.mysql.jdbc.Driver\")\\\n",
    "        .option(\"dbtable\", dbtable)\\\n",
    "        .option(\"user\", config['DST_DB_USER'])\\\n",
    "        .option(\"password\", config['DST_DB_PASSWORD'])\\\n",
    "        .load()"
   ]
  },
  {
   "cell_type": "code",
   "execution_count": 11,
   "metadata": {},
   "outputs": [],
   "source": [
    "df_equipment.createOrReplaceTempView(dbtable)"
   ]
  },
  {
   "cell_type": "code",
   "execution_count": 12,
   "metadata": {},
   "outputs": [],
   "source": [
    "dbtable = \"dim_inventory\""
   ]
  },
  {
   "cell_type": "code",
   "execution_count": 13,
   "metadata": {},
   "outputs": [],
   "source": [
    "df_inventory = spark.read.format(\"jdbc\")\\\n",
    "        .option(\"url\",config['DST_DB_URL'])\\\n",
    "        .option(\"driver\", \"com.mysql.jdbc.Driver\")\\\n",
    "        .option(\"dbtable\", dbtable)\\\n",
    "        .option(\"user\", config['DST_DB_USER'])\\\n",
    "        .option(\"password\", config['DST_DB_PASSWORD'])\\\n",
    "        .load()"
   ]
  },
  {
   "cell_type": "code",
   "execution_count": 14,
   "metadata": {},
   "outputs": [],
   "source": [
    "df_inventory.createOrReplaceTempView(dbtable)"
   ]
  },
  {
   "cell_type": "code",
   "execution_count": 15,
   "metadata": {},
   "outputs": [],
   "source": [
    "bridge_inventory_equipment = spark.sql(\"\"\"\n",
    "SELECT\n",
    "i.inventory_id AS inventory_id,\n",
    "e.equipment_id AS equipment_id\n",
    "FROM inventory_equipment AS ie\n",
    "JOIN dim_inventory AS i ON ie.inventory_id = i.inventory_key\n",
    "JOIN dim_equipment AS e ON ie.equipment_id = e.equipment_key\n",
    "\"\"\")"
   ]
  },
  {
   "cell_type": "code",
   "execution_count": 16,
   "metadata": {},
   "outputs": [
    {
     "name": "stderr",
     "output_type": "stream",
     "text": [
      "                                                                                \r"
     ]
    },
    {
     "name": "stdout",
     "output_type": "stream",
     "text": [
      "+------------+------------+\n",
      "|inventory_id|equipment_id|\n",
      "+------------+------------+\n",
      "|         964|           1|\n",
      "|         191|           1|\n",
      "|        1010|           1|\n",
      "|         541|           1|\n",
      "|          65|           1|\n",
      "|         558|           1|\n",
      "|        1127|           1|\n",
      "|         293|           1|\n",
      "|         270|           1|\n",
      "|         222|           1|\n",
      "|         730|           1|\n",
      "|        1145|           1|\n",
      "|         243|           1|\n",
      "|         705|           1|\n",
      "|         278|           1|\n",
      "|         367|           1|\n",
      "|         847|           1|\n",
      "|         277|           1|\n",
      "|         415|           1|\n",
      "|         287|           1|\n",
      "+------------+------------+\n",
      "only showing top 20 rows\n",
      "\n"
     ]
    }
   ],
   "source": [
    "bridge_inventory_equipment.show()"
   ]
  },
  {
   "cell_type": "code",
   "execution_count": null,
   "metadata": {},
   "outputs": [],
   "source": [
    "spark.sql(\"\"\"\n",
    "ALTER TABLE bridge_inventory_equipment ADD PRIMARY KEY (inventory_id, equipment_id)\n",
    "ALTER TABLE dim_equipment ADD PRIMARY KEY (equipment_id)\n",
    "\n",
    "ALTER TABLE bridge_inventory_equipment\n",
    "ADD CONSTRAINT bridge_inventory_equipment_FK\n",
    "FOREIGN KEY (inventory_id) REFERENCES dim_inventory (inventory_id)\n",
    "\n",
    "ALTER TABLE bridge_inventory_equipment\n",
    "ADD CONSTRAINT bridge_inventory_equipment_FK2\n",
    "FOREIGN KEY (equipment_id) REFERENCES dim_equipment (equipment_id)\n",
    "\"\"\")"
   ]
  },
  {
   "cell_type": "code",
   "execution_count": 17,
   "metadata": {},
   "outputs": [
    {
     "name": "stderr",
     "output_type": "stream",
     "text": [
      "                                                                                \r"
     ]
    }
   ],
   "source": [
    "bridge_inventory_equipment.write.format(\"jdbc\")\\\n",
    "        .option(\"url\",config['DST_DB_URL'])\\\n",
    "        .option(\"driver\", \"com.mysql.jdbc.Driver\")\\\n",
    "        .option(\"dbtable\", \"bridge_inventory_equipment\")\\\n",
    "        .option(\"user\", config['DST_DB_USER'])\\\n",
    "        .option(\"password\", config['DST_DB_PASSWORD'])\\\n",
    "        .save()"
   ]
  },
  {
   "cell_type": "code",
   "execution_count": null,
   "metadata": {},
   "outputs": [],
   "source": []
  }
 ],
 "metadata": {
  "kernelspec": {
   "display_name": "venvPySpark",
   "language": "python",
   "name": "python3"
  },
  "language_info": {
   "codemirror_mode": {
    "name": "ipython",
    "version": 3
   },
   "file_extension": ".py",
   "mimetype": "text/x-python",
   "name": "python",
   "nbconvert_exporter": "python",
   "pygments_lexer": "ipython3",
   "version": "3.10.12"
  },
  "orig_nbformat": 4
 },
 "nbformat": 4,
 "nbformat_minor": 2
}
